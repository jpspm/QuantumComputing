{
 "cells": [
  {
   "cell_type": "markdown",
   "metadata": {},
   "source": [
    "To do:\n",
    "- SPSA Optmizer, como funciona a função do qistkit\n",
    "- O que é o threshold\n",
    "- A função treino\n",
    "- \n",
    "- "
   ]
  },
  {
   "cell_type": "markdown",
   "metadata": {},
   "source": [
    "Anotações:\n",
    "- o Uw é só introduzir $(-1)*\\phi$ do mesmo jeito que foi introduzido o $\\theta$\n",
    "- normalmente o tamanho de theta é uma potência de 2\n",
    "- as portas $X$ são colocadas no cicuito de modo a aplicar a operação $R$ somente ao estado desejado (visto que a porta $R$, da maneira que implementamos, só é aplicada quando o estado atual é $|11>$)\n",
    "- Existe uma porta $P$ que faz o que implementamos como rzao\n",
    "- Lembrar de fazer o theta til em vez de só theta"
   ]
  },
  {
   "cell_type": "code",
   "execution_count": null,
   "metadata": {},
   "outputs": [],
   "source": [
    "!pip install qiskit\n",
    "!pip install pennylane --upgrade\n",
    "!pip install --upgrade tensorflow\n",
    "!pip install matplotlib"
   ]
  },
  {
   "cell_type": "code",
   "execution_count": 1,
   "metadata": {},
   "outputs": [],
   "source": [
    "from qiskit import *\n",
    "from qiskit.quantum_info.operators import Operator\n",
    "from qiskit.visualization import plot_histogram\n",
    "from qiskit.algorithms.optimizers import SPSA\n",
    "import pennylane as qml\n",
    "from pennylane import numpy as np\n",
    "from pennylane.templates import RandomLayers\n",
    "import tensorflow as tf\n",
    "from tensorflow import keras\n",
    "import matplotlib.pyplot as plt\n",
    "\n",
    "\n",
    "import numpy as np"
   ]
  },
  {
   "cell_type": "markdown",
   "metadata": {},
   "source": [
    "## $U_i$"
   ]
  },
  {
   "cell_type": "code",
   "execution_count": 2,
   "metadata": {},
   "outputs": [],
   "source": [
    "def Ui(theta:[float]):\n",
    "\n",
    "    numQubits = int(np.log2(len(theta)))\n",
    "\n",
    "    register = QuantumRegister(numQubits)\n",
    "\n",
    "    circuito = QuantumCircuit(register, name = \"U(i)\")\n",
    "\n",
    "    circuito.h(range(numQubits))\n",
    "\n",
    "    thetaTil = list(map(lambda x: x-theta[0], theta[1:]))\n",
    "\n",
    "    for i in range(len(thetaTil)):\n",
    "\n",
    "        num = bin(i+1)[2:].zfill(numQubits)\n",
    "\n",
    "        count=0 # essa variavel vai guardar em que posicao na string estamos\n",
    "\n",
    "        for j in num: # iterando pelos caracteres de num\n",
    "\n",
    "            if(j=='0'):\n",
    "\n",
    "                circuito.x(count)\n",
    "\n",
    "            count+=1\n",
    "\n",
    "        circuito.mcp(thetaTil[i], list(range(len(num)-1)), len(num)-1)\n",
    "\n",
    "        count=0 # essa variavel vai guardar em que posicao na string estamos\n",
    "\n",
    "        for j in num: # iterando pelos caracteres de num\n",
    "\n",
    "            if(j=='0'):\n",
    "\n",
    "                circuito.x(count) # desfazendo os nots\n",
    "\n",
    "            count+=1\n",
    "\n",
    "    return circuito.to_gate()"
   ]
  },
  {
   "cell_type": "code",
   "execution_count": 3,
   "metadata": {},
   "outputs": [
    {
     "data": {
      "text/html": [
       "<pre style=\"word-wrap: normal;white-space: pre;background: #fff0;line-height: 1.1;font-family: &quot;Courier New&quot;,Courier,monospace\">      ┌───┐┌───┐       ┌───┐                   \n",
       "qr_0: ┤ H ├┤ X ├─■─────┤ X ├─■───────────■─────\n",
       "      ├───┤└───┘ │P(2) ├───┤ │P(3) ┌───┐ │P(1) \n",
       "qr_1: ┤ H ├──────■─────┤ X ├─■─────┤ X ├─■─────\n",
       "      └───┘            └───┘       └───┘       </pre>"
      ],
      "text/plain": [
       "      ┌───┐┌───┐       ┌───┐                   \n",
       "qr_0: ┤ H ├┤ X ├─■─────┤ X ├─■───────────■─────\n",
       "      ├───┤└───┘ │P(2) ├───┤ │P(3) ┌───┐ │P(1) \n",
       "qr_1: ┤ H ├──────■─────┤ X ├─■─────┤ X ├─■─────\n",
       "      └───┘            └───┘       └───┘       "
      ]
     },
     "execution_count": 3,
     "metadata": {},
     "output_type": "execute_result"
    }
   ],
   "source": [
    "thetaEx = [10, 12, 13, 11]\n",
    "\n",
    "register1 = QuantumRegister(2, name='qr')\n",
    "\n",
    "circuito = QuantumCircuit(register1)\n",
    "circuito.append(Ui(thetaEx), [0,1])\n",
    "\n",
    "circuito.decompose().draw()"
   ]
  },
  {
   "cell_type": "markdown",
   "metadata": {},
   "source": [
    "## $U_w$"
   ]
  },
  {
   "cell_type": "code",
   "execution_count": 4,
   "metadata": {},
   "outputs": [],
   "source": [
    "def Uw(phi:[float]):\n",
    "\n",
    "    numQubits = int(np.log2(len(phi)))\n",
    "\n",
    "    register = QuantumRegister(numQubits)\n",
    "\n",
    "    circuito = QuantumCircuit(register, name = \"U(w)\")   \n",
    "\n",
    "    phiTil = list(map(lambda x: (x-phi[0])*(-1), phi[1:])) # Phase(lambda)^daga == Phase(-lambda)\n",
    "\n",
    "    for i in range(len(phiTil)):\n",
    "\n",
    "        num = bin(i+1)[2:].zfill(numQubits)\n",
    "\n",
    "        count=0 # essa variavel vai guardar em que posicao na string estamos\n",
    "\n",
    "        for j in num: # iterando pelos caracteres de num\n",
    "\n",
    "            if(j=='0'):\n",
    "\n",
    "                circuito.x(count)\n",
    "\n",
    "            count+=1\n",
    "\n",
    "        circuito.mcp(phiTil[i], list(range(len(num)-1)), len(num)-1)\n",
    "\n",
    "        count=0 # essa variavel vai guardar em que posicao na string estamos\n",
    "\n",
    "        for j in num: # iterando pelos caracteres de num\n",
    "\n",
    "            if(j=='0'):\n",
    "\n",
    "                circuito.x(count) # desfazendo os nots\n",
    "\n",
    "            count+=1\n",
    "\n",
    "    circuito.h(range(numQubits))\n",
    "\n",
    "    circuito.x(range(numQubits))\n",
    "\n",
    "    return circuito.to_gate()"
   ]
  },
  {
   "cell_type": "code",
   "execution_count": 5,
   "metadata": {},
   "outputs": [
    {
     "data": {
      "text/html": [
       "<pre style=\"word-wrap: normal;white-space: pre;background: #fff0;line-height: 1.1;font-family: &quot;Courier New&quot;,Courier,monospace\">      ┌───┐        ┌───┐                     ┌───┐┌───┐\n",
       "qr_0: ┤ X ├─■──────┤ X ├─■────────────■──────┤ H ├┤ X ├\n",
       "      └───┘ │P(-2) ├───┤ │P(-3) ┌───┐ │P(-1) ├───┤├───┤\n",
       "qr_1: ──────■──────┤ X ├─■──────┤ X ├─■──────┤ H ├┤ X ├\n",
       "                   └───┘        └───┘        └───┘└───┘</pre>"
      ],
      "text/plain": [
       "      ┌───┐        ┌───┐                     ┌───┐┌───┐\n",
       "qr_0: ┤ X ├─■──────┤ X ├─■────────────■──────┤ H ├┤ X ├\n",
       "      └───┘ │P(-2) ├───┤ │P(-3) ┌───┐ │P(-1) ├───┤├───┤\n",
       "qr_1: ──────■──────┤ X ├─■──────┤ X ├─■──────┤ H ├┤ X ├\n",
       "                   └───┘        └───┘        └───┘└───┘"
      ]
     },
     "execution_count": 5,
     "metadata": {},
     "output_type": "execute_result"
    }
   ],
   "source": [
    "phiEx = [10, 12, 13, 11]\n",
    "\n",
    "register1 = QuantumRegister(2, name='qr')\n",
    "\n",
    "circuito = QuantumCircuit(register1)\n",
    "circuito.append(Uw(phiEx), [0,1])\n",
    "\n",
    "circuito.decompose().draw()"
   ]
  },
  {
   "cell_type": "markdown",
   "metadata": {},
   "source": [
    "## Teste"
   ]
  },
  {
   "cell_type": "code",
   "execution_count": 6,
   "metadata": {},
   "outputs": [
    {
     "data": {
      "text/html": [
       "<pre style=\"word-wrap: normal;white-space: pre;background: #fff0;line-height: 1.1;font-family: &quot;Courier New&quot;,Courier,monospace\">        ┌───────┐ ░ ┌───────┐ ░         \n",
       "  q2_0: ┤0      ├─░─┤0      ├─░───■─────\n",
       "        │  U(i) │ ░ │  U(w) │ ░   │     \n",
       "  q2_1: ┤1      ├─░─┤1      ├─░───■─────\n",
       "        └───────┘ ░ └───────┘ ░ ┌─┴─┐┌─┐\n",
       "output: ──────────░───────────░─┤ X ├┤M├\n",
       "                  ░           ░ └───┘└╥┘\n",
       "  c0: 1/══════════════════════════════╩═\n",
       "                                      0 </pre>"
      ],
      "text/plain": [
       "        ┌───────┐ ░ ┌───────┐ ░         \n",
       "  q2_0: ┤0      ├─░─┤0      ├─░───■─────\n",
       "        │  U(i) │ ░ │  U(w) │ ░   │     \n",
       "  q2_1: ┤1      ├─░─┤1      ├─░───■─────\n",
       "        └───────┘ ░ └───────┘ ░ ┌─┴─┐┌─┐\n",
       "output: ──────────░───────────░─┤ X ├┤M├\n",
       "                  ░           ░ └───┘└╥┘\n",
       "  c0: 1/══════════════════════════════╩═\n",
       "                                      0 "
      ]
     },
     "execution_count": 6,
     "metadata": {},
     "output_type": "execute_result"
    }
   ],
   "source": [
    "register = QuantumRegister(2)\n",
    "\n",
    "register2 = QuantumRegister(1, name='output')\n",
    "\n",
    "classicalBit = ClassicalRegister(1)\n",
    "\n",
    "circuito = QuantumCircuit(register, register2, classicalBit)\n",
    "\n",
    "thetaEx = [np.pi/6, np.pi/4, np.pi/2, np.pi]\n",
    "phiEx = [0, np.pi/2, np.pi/4, np.pi/6]\n",
    "\n",
    "circuito.append(Ui(thetaEx), [0,1])\n",
    "circuito.barrier()\n",
    "circuito.append(Uw(phiEx), [0,1])\n",
    "circuito.barrier()\n",
    "\n",
    "circuito.mcx([0,1], 2)\n",
    "\n",
    "circuito.measure(2,0)\n",
    "\n",
    "circuito.draw()"
   ]
  },
  {
   "cell_type": "code",
   "execution_count": 7,
   "metadata": {},
   "outputs": [
    {
     "data": {
      "image/png": "[encoded data removed]",
      "text/plain": [
       "<Figure size 504x360 with 1 Axes>"
      ]
     },
     "execution_count": 7,
     "metadata": {},
     "output_type": "execute_result"
    }
   ],
   "source": [
    "sim = Aer.get_backend('aer_simulator')  # Tell Qiskit how to simulate our circuit\n",
    "\n",
    "qobj = assemble(circuito.decompose())     # Create a Qobj from the circuit for the simulator to run\n",
    "counts = sim.run(qobj).result().get_counts()\n",
    "plot_histogram(counts)"
   ]
  },
  {
   "cell_type": "code",
   "execution_count": 333,
   "metadata": {},
   "outputs": [],
   "source": [
    "n_epochs = 30   # Number of optimization epochs\n",
    "n_train = 50    # Size of the train dataset\n",
    "n_test = 30\n",
    "n_batch = 5     # Size of the test dataset\n",
    "threshold = 0.85\n",
    "spsa = SPSA(maxiter=20,blocking= True)"
   ]
  },
  {
   "cell_type": "markdown",
   "metadata": {},
   "source": [
    "### Pre processamento"
   ]
  },
  {
   "cell_type": "code",
   "execution_count": 320,
   "metadata": {},
   "outputs": [],
   "source": [
    "mnist_dataset = keras.datasets.mnist\n",
    "(X_train, Y_train), (X_test, Y_test) = mnist_dataset.load_data()\n",
    "\n",
    "train_mask = np.isin(Y_train, [0,1])\n",
    "test_mask = np.isin(Y_test, [0,1])\n",
    "\n",
    "X_train, Y_train = X_train[train_mask], np.array(Y_train[train_mask] == 1)\n",
    "X_test, Y_test = X_test[test_mask], np.array(Y_test[test_mask] == 1)\n"
   ]
  },
  {
   "cell_type": "code",
   "execution_count": 314,
   "metadata": {},
   "outputs": [],
   "source": [
    "mnist_dataset = keras.datasets.mnist\n",
    "(X_train, Y_train), (X_test, Y_test) = mnist_dataset.load_data()"
   ]
  },
  {
   "cell_type": "code",
   "execution_count": 325,
   "metadata": {},
   "outputs": [
    {
     "name": "stdout",
     "output_type": "stream",
     "text": [
      "[ True False  True False False  True False False  True  True  True  True\n",
      "  True  True False  True False False  True  True  True  True False  True\n",
      " False  True False  True  True  True]\n"
     ]
    }
   ],
   "source": [
    "print(Y_test)"
   ]
  },
  {
   "cell_type": "markdown",
   "metadata": {},
   "source": [
    "### Diminuindo o tamanho das amostras"
   ]
  },
  {
   "cell_type": "code",
   "execution_count": 322,
   "metadata": {},
   "outputs": [],
   "source": [
    "weightImageOne = X_test[51] #number one 51\n",
    "\n",
    "X_train = X_train[:n_train]\n",
    "Y_train = Y_train[:n_train]\n",
    "\n",
    "X_test = X_test[:n_test]\n",
    "Y_test = Y_test[:n_test]"
   ]
  },
  {
   "cell_type": "markdown",
   "metadata": {},
   "source": [
    "### Normalizando as amostras entre zero e $\\pi$"
   ]
  },
  {
   "cell_type": "code",
   "execution_count": 324,
   "metadata": {},
   "outputs": [],
   "source": [
    "X_train = (X_train/255)*(np.pi/2)\n",
    "X_test= (X_test/255)*(np.pi/2)\n",
    "\n",
    "weightImageOne = (weightImageOne/255)*(np.pi/2)"
   ]
  },
  {
   "cell_type": "code",
   "execution_count": 276,
   "metadata": {},
   "outputs": [
    {
     "name": "stdout",
     "output_type": "stream",
     "text": [
      "False\n",
      "True\n",
      "True\n",
      "True\n",
      "True\n",
      "False\n",
      "True\n",
      "True\n",
      "False\n",
      "False\n",
      "True\n",
      "False\n",
      "False\n",
      "True\n",
      "False\n",
      "True\n",
      "False\n",
      "False\n",
      "True\n",
      "True\n",
      "False\n",
      "True\n",
      "True\n",
      "False\n",
      "False\n",
      "False\n",
      "True\n",
      "True\n",
      "True\n",
      "True\n",
      "False\n",
      "True\n",
      "True\n",
      "False\n",
      "False\n",
      "False\n",
      "False\n",
      "True\n",
      "True\n",
      "True\n",
      "True\n",
      "False\n",
      "False\n",
      "True\n",
      "True\n",
      "True\n",
      "False\n",
      "True\n",
      "True\n",
      "True\n"
     ]
    }
   ],
   "source": [
    "for i in Y_train:\n",
    "    print(i)"
   ]
  },
  {
   "cell_type": "code",
   "execution_count": 328,
   "metadata": {},
   "outputs": [
    {
     "data": {
      "image/png": "[encoded data removed]",
      "text/plain": [
       "<Figure size 432x288 with 1 Axes>"
      ]
     },
     "metadata": {
      "needs_background": "light"
     },
     "output_type": "display_data"
    }
   ],
   "source": [
    "X_train = np.expand_dims(X_train, axis=-1)\n",
    "X_train = tf.image.resize(X_train, [32,32])\n",
    "\n",
    "X_test = np.expand_dims(X_test, axis=-1)\n",
    "X_test = tf.image.resize(X_test, [32,32])\n",
    "\n",
    "weightImageOne = np.expand_dims(weightImageOne, axis=-1)\n",
    "weightImageOne = tf.image.resize(weightImageOne, [32,32])\n",
    "plt.imshow(X_train[0], cmap= \"gray\")\n",
    "plt.show()"
   ]
  },
  {
   "cell_type": "code",
   "execution_count": 265,
   "metadata": {},
   "outputs": [
    {
     "data": {
      "image/png": "[encoded data removed]",
      "text/plain": [
       "<Figure size 432x288 with 1 Axes>"
      ]
     },
     "metadata": {
      "needs_background": "light"
     },
     "output_type": "display_data"
    },
    {
     "name": "stdout",
     "output_type": "stream",
     "text": [
      "False\n"
     ]
    }
   ],
   "source": [
    "plt.imshow(X_train[3], cmap= \"gray\")\n",
    "plt.show()\n",
    "print(Y_train[0])"
   ]
  },
  {
   "cell_type": "markdown",
   "metadata": {},
   "source": [
    "### Transformando imagem em lista de array"
   ]
  },
  {
   "cell_type": "code",
   "execution_count": 266,
   "metadata": {},
   "outputs": [],
   "source": [
    "def transformImageInArray(image):\n",
    "    imageArray = []\n",
    "    for i in range(32):\n",
    "        for j in range(32):\n",
    "            imageArray.append(float(image[i][j]))\n",
    "    return imageArray"
   ]
  },
  {
   "cell_type": "markdown",
   "metadata": {},
   "source": [
    "### Criando Circuito"
   ]
  },
  {
   "cell_type": "code",
   "execution_count": 267,
   "metadata": {},
   "outputs": [],
   "source": [
    "def createCircuit(imageArray, weightArray):\n",
    "    numQbits = int(np.log2(len(weightArray)))\n",
    "\n",
    "    register = QuantumRegister(numQbits)\n",
    "    output = QuantumRegister(1, name='output')\n",
    "    classicalBit = ClassicalRegister(1)\n",
    "\n",
    "    circuit = QuantumCircuit(register, output, classicalBit)\n",
    "\n",
    "    circuit.append(Ui(imageArray), [0,1,2,3,4,5,6,7,8,9])\n",
    "    circuit.barrier()\n",
    "    circuit.append(Uw(weightArray), [0,1,2,3,4,5,6,7,8,9])\n",
    "    circuit.mcx([0,1,2,3,4,5,6,7,8,9], 10)\n",
    "    circuit.measure(10,0)\n",
    "    return circuit"
   ]
  },
  {
   "cell_type": "markdown",
   "metadata": {},
   "source": [
    "### Funçoes auxiliares"
   ]
  },
  {
   "cell_type": "code",
   "execution_count": 202,
   "metadata": {},
   "outputs": [],
   "source": [
    "def getlost(ytil, y):\n",
    "    return (y - ytil)**2"
   ]
  },
  {
   "cell_type": "code",
   "execution_count": 271,
   "metadata": {},
   "outputs": [],
   "source": [
    "def loss(weight):\n",
    "\n",
    "    circuit = createCircuit(transformImageInArray(imagem), weight)\n",
    "    sim = Aer.get_backend('aer_simulator')  # Tell Qiskit how to simulate our circuit\n",
    "    qobj = assemble(circuit.decompose())     # Create a Qobj from the circuit for the simulator to run\n",
    "    counts = sim.run(qobj).result().get_counts()\n",
    "    print(\"Keys: \"+str(counts.keys()))\n",
    "    print(counts)\n",
    "    try:\n",
    "        if(counts['1']/1024 > threshold): ytil = 1 \n",
    "        else: ytil = 0\n",
    "    except:\n",
    "        ytil = 0\n",
    "    return getlost(ytil, imagemLabel)"
   ]
  },
  {
   "cell_type": "code",
   "execution_count": 334,
   "metadata": {},
   "outputs": [
    {
     "data": {
      "image/png": "[encoded data removed]",
      "text/plain": [
       "<Figure size 504x360 with 1 Axes>"
      ]
     },
     "execution_count": 334,
     "metadata": {},
     "output_type": "execute_result"
    }
   ],
   "source": [
    "circuit = createCircuit(transformImageInArray(X_train[8]), weightArray)\n",
    "sim = Aer.get_backend('aer_simulator')  # Tell Qiskit how to simulate our circuit\n",
    "qobj = assemble(circuit.decompose())     # Create a Qobj from the circuit for the simulator to run\n",
    "counts = sim.run(qobj).result().get_counts()\n",
    "plot_histogram(counts)\n"
   ]
  },
  {
   "cell_type": "code",
   "execution_count": null,
   "metadata": {},
   "outputs": [],
   "source": [
    "imagem = X_train[4]\n",
    "imagemLabel = Y_train[4]\n",
    "weightArray = transformImageInArray(weightImageOne)\n",
    "for i in range(50):\n",
    "    imagem = X_train[i]\n",
    "    imagemLabel = Y_train[i]\n",
    "    weightArray = spsa.optimize(num_vars = 1024, variable_bounds= list((0, np.pi/2) for i in range (1024)), objective_function = loss ,initial_point=weightArray)[0]\n",
    "    \n"
   ]
  },
  {
   "cell_type": "markdown",
   "metadata": {},
   "source": [
    "## Train"
   ]
  },
  {
   "cell_type": "code",
   "execution_count": 355,
   "metadata": {},
   "outputs": [
    {
     "name": "stdout",
     "output_type": "stream",
     "text": [
      "1.0\n",
      "erro 0: 00.0\n",
      "erro 1: 00.0\n"
     ]
    }
   ],
   "source": [
    "count = 0\n",
    "count0 = 0\n",
    "count1 = 0\n",
    "for i in range(30):\n",
    "    circuit = createCircuit(transformImageInArray(X_test[i]), weightArray)\n",
    "    sim = Aer.get_backend('aer_simulator')  # Tell Qiskit how to simulate our circuit\n",
    "    qobj = assemble(circuit.decompose())     # Create a Qobj from the circuit for the simulator to run\n",
    "    counts = sim.run(qobj).result().get_counts()\n",
    "    if (counts['1']/1024 > threshold):\n",
    "        result = 1\n",
    "    else:\n",
    "        result = 0\n",
    "    #print(\"Result: \"+str(result)+ \" Label: \"+str(Y_test[i]))\n",
    "    if result == Y_test[i]:\n",
    "        count += 1\n",
    "    else:\n",
    "        if result == 0:\n",
    "            count0 += 1\n",
    "        else:\n",
    "            count1 += 1\n",
    "    \n",
    "print(count/30)\n",
    "print(\"erro 0: \"+str(count0) + str(count0/30))\n",
    "print(\"erro 1: \"+str(count1) + str(count1/30))"
   ]
  },
  {
   "cell_type": "code",
   "execution_count": 349,
   "metadata": {},
   "outputs": [
    {
     "data": {
      "image/png": "[encoded data removed]",
      "text/plain": [
       "<Figure size 504x360 with 1 Axes>"
      ]
     },
     "execution_count": 349,
     "metadata": {},
     "output_type": "execute_result"
    }
   ],
   "source": [
    "circuit = createCircuit(transformImageInArray(X_test[7]), weightArray)\n",
    "sim = Aer.get_backend('aer_simulator')  # Tell Qiskit how to simulate our circuit\n",
    "qobj = assemble(circuit.decompose())     # Create a Qobj from the circuit for the simulator to run\n",
    "counts = sim.run(qobj).result().get_counts()\n",
    "plot_histogram(counts)"
   ]
  },
  {
   "cell_type": "code",
   "execution_count": 351,
   "metadata": {},
   "outputs": [
    {
     "data": {
      "image/png": "[encoded data removed]",
      "text/plain": [
       "<Figure size 432x288 with 1 Axes>"
      ]
     },
     "metadata": {
      "needs_background": "light"
     },
     "output_type": "display_data"
    }
   ],
   "source": [
    "plt.imshow(X_test[7], cmap= \"gray\")\n",
    "plt.show()"
   ]
  }
 ],
 "metadata": {
  "interpreter": {
   "hash": "06a6e9066bbeb53b5d1ce66b8de344dab574a4b2c668895e58457d7b51122ee9"
  },
  "kernelspec": {
   "display_name": "Python 3.8.10 64-bit (windows store)",
   "language": "python",
   "name": "python3"
  },
  "language_info": {
   "codemirror_mode": {
    "name": "ipython",
    "version": 3
   },
   "file_extension": ".py",
   "mimetype": "text/x-python",
   "name": "python",
   "nbconvert_exporter": "python",
   "pygments_lexer": "ipython3",
   "version": "3.8.10"
  },
  "orig_nbformat": 4
 },
 "nbformat": 4,
 "nbformat_minor": 2
}
