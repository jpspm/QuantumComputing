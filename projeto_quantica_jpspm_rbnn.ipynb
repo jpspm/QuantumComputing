{
 "cells": [
  {
   "cell_type": "markdown",
   "metadata": {},
   "source": [
    "To do:\n",
    "- SPSA Optmizer, como funciona a função do qistkit\n",
    "- O que é o threshold\n",
    "- A função treino\n",
    "- \n",
    "- "
   ]
  },
  {
   "cell_type": "markdown",
   "metadata": {},
   "source": [
    "Anotações:\n",
    "- o Uw é só introduzir $(-1)*\\phi$ do mesmo jeito que foi introduzido o $\\theta$\n",
    "- normalmente o tamanho de theta é uma potência de 2\n",
    "- as portas $X$ são colocadas no cicuito de modo a aplicar a operação $R$ somente ao estado desejado (visto que a porta $R$, da maneira que implementamos, só é aplicada quando o estado atual é $|11>$)\n",
    "- Existe uma porta $P$ que faz o que implementamos como rzao\n",
    "- Lembrar de fazer o theta til em vez de só theta"
   ]
  },
  {
   "cell_type": "code",
   "execution_count": 1,
   "metadata": {},
   "outputs": [
    {
     "name": "stdout",
     "output_type": "stream",
     "text": [
      "Collecting qiskit\n",
      "  Downloading qiskit-0.36.0.tar.gz (13 kB)\n",
      "Collecting qiskit-terra==0.20.0\n",
      "  Downloading qiskit_terra-0.20.0-cp38-cp38-manylinux_2_17_x86_64.manylinux2014_x86_64.whl (6.5 MB)\n",
      "\u001b[K     |████████████████████████████████| 6.5 MB 1.3 MB/s eta 0:00:01\n",
      "\u001b[?25hCollecting qiskit-aer==0.10.4\n",
      "  Downloading qiskit_aer-0.10.4-cp38-cp38-manylinux_2_12_x86_64.manylinux2010_x86_64.whl (18.0 MB)\n",
      "\u001b[K     |████████████████████████████████| 18.0 MB 38.1 MB/s eta 0:00:01\n",
      "\u001b[?25hCollecting qiskit-ibmq-provider==0.19.0\n",
      "  Downloading qiskit_ibmq_provider-0.19.0-py3-none-any.whl (240 kB)\n",
      "\u001b[K     |████████████████████████████████| 240 kB 24.5 MB/s eta 0:00:01\n",
      "\u001b[?25hCollecting qiskit-ignis==0.7.0\n",
      "  Downloading qiskit_ignis-0.7.0-py3-none-any.whl (200 kB)\n",
      "\u001b[K     |████████████████████████████████| 200 kB 33.7 MB/s eta 0:00:01\n",
      "\u001b[?25hCollecting sympy>=1.3\n",
      "  Downloading sympy-1.10.1-py3-none-any.whl (6.4 MB)\n",
      "\u001b[K     |████████████████████████████████| 6.4 MB 19.3 MB/s eta 0:00:01\n",
      "\u001b[?25hCollecting python-constraint>=1.4\n",
      "  Downloading python-constraint-1.4.0.tar.bz2 (18 kB)\n",
      "Collecting ply>=3.10\n",
      "  Downloading ply-3.11-py2.py3-none-any.whl (49 kB)\n",
      "\u001b[K     |████████████████████████████████| 49 kB 774 kB/s  eta 0:00:01\n",
      "\u001b[?25hRequirement already satisfied: python-dateutil>=2.8.0 in /usr/local/lib/python3.8/dist-packages (from qiskit-terra==0.20.0->qiskit) (2.8.2)\n",
      "Requirement already satisfied: psutil>=5 in /home/jp/.local/lib/python3.8/site-packages (from qiskit-terra==0.20.0->qiskit) (5.8.0)\n",
      "Collecting stevedore>=3.0.0\n",
      "  Downloading stevedore-3.5.0-py3-none-any.whl (49 kB)\n",
      "\u001b[K     |████████████████████████████████| 49 kB 1.7 MB/s  eta 0:00:01\n",
      "\u001b[?25hCollecting tweedledum<2.0,>=1.1\n",
      "  Downloading tweedledum-1.1.1-cp38-cp38-manylinux_2_12_x86_64.manylinux2010_x86_64.whl (929 kB)\n",
      "\u001b[K     |████████████████████████████████| 929 kB 62.2 MB/s eta 0:00:01\n",
      "\u001b[?25hCollecting retworkx>=0.11.0\n",
      "  Downloading retworkx-0.11.0-cp38-cp38-manylinux_2_5_x86_64.manylinux1_x86_64.manylinux_2_12_x86_64.manylinux2010_x86_64.whl (1.6 MB)\n",
      "\u001b[K     |████████████████████████████████| 1.6 MB 17.2 MB/s eta 0:00:01\n",
      "\u001b[?25hCollecting symengine>=0.9; platform_machine == \"x86_64\" or platform_machine == \"aarch64\" or platform_machine == \"ppc64le\" or platform_machine == \"amd64\" or platform_machine == \"arm64\"\n",
      "\u001b[33m  WARNING: Retrying (Retry(total=4, connect=None, read=None, redirect=None, status=None)) after connection broken by 'ReadTimeoutError(\"HTTPSConnectionPool(host='files.pythonhosted.org', port=443): Read timed out. (read timeout=15)\")': /packages/a4/9f/c73049f6cd597cd4bb0cf31516a804185198edd138efc002f0153d96e19d/symengine-0.9.2-cp38-cp38-manylinux2010_x86_64.whl\u001b[0m\n",
      "\u001b[33m  WARNING: Retrying (Retry(total=3, connect=None, read=None, redirect=None, status=None)) after connection broken by 'ReadTimeoutError(\"HTTPSConnectionPool(host='files.pythonhosted.org', port=443): Read timed out. (read timeout=15)\")': /packages/a4/9f/c73049f6cd597cd4bb0cf31516a804185198edd138efc002f0153d96e19d/symengine-0.9.2-cp38-cp38-manylinux2010_x86_64.whl\u001b[0m\n",
      "\u001b[33m  WARNING: Retrying (Retry(total=2, connect=None, read=None, redirect=None, status=None)) after connection broken by 'ReadTimeoutError(\"HTTPSConnectionPool(host='files.pythonhosted.org', port=443): Read timed out. (read timeout=15)\")': /packages/a4/9f/c73049f6cd597cd4bb0cf31516a804185198edd138efc002f0153d96e19d/symengine-0.9.2-cp38-cp38-manylinux2010_x86_64.whl\u001b[0m\n",
      "\u001b[33m  WARNING: Retrying (Retry(total=1, connect=None, read=None, redirect=None, status=None)) after connection broken by 'ReadTimeoutError(\"HTTPSConnectionPool(host='files.pythonhosted.org', port=443): Read timed out. (read timeout=15)\")': /packages/a4/9f/c73049f6cd597cd4bb0cf31516a804185198edd138efc002f0153d96e19d/symengine-0.9.2-cp38-cp38-manylinux2010_x86_64.whl\u001b[0m\n",
      "\u001b[33m  WARNING: Retrying (Retry(total=0, connect=None, read=None, redirect=None, status=None)) after connection broken by 'ReadTimeoutError(\"HTTPSConnectionPool(host='files.pythonhosted.org', port=443): Read timed out. (read timeout=15)\")': /packages/a4/9f/c73049f6cd597cd4bb0cf31516a804185198edd138efc002f0153d96e19d/symengine-0.9.2-cp38-cp38-manylinux2010_x86_64.whl\u001b[0m\n",
      "  Downloading symengine-0.9.2-cp38-cp38-manylinux2010_x86_64.whl (37.5 MB)\n",
      "\u001b[K     |████████████████████████████████| 37.5 MB 26.8 MB/s eta 0:00:01\n",
      "\u001b[?25hCollecting dill>=0.3\n",
      "  Downloading dill-0.3.4-py2.py3-none-any.whl (86 kB)\n",
      "\u001b[K     |████████████████████████████████| 86 kB 2.0 MB/s  eta 0:00:01\n",
      "\u001b[?25hRequirement already satisfied: numpy>=1.17 in /usr/lib/python3/dist-packages (from qiskit-terra==0.20.0->qiskit) (1.17.4)\n",
      "Collecting scipy>=1.5\n",
      "  Downloading scipy-1.8.0-cp38-cp38-manylinux_2_17_x86_64.manylinux2014_x86_64.whl (41.6 MB)\n",
      "\u001b[K     |████████████████████████████████| 41.6 MB 59.5 MB/s eta 0:00:01\n",
      "\u001b[?25hCollecting websocket-client>=1.0.1\n",
      "  Downloading websocket_client-1.3.2-py3-none-any.whl (54 kB)\n",
      "\u001b[K     |████████████████████████████████| 54 kB 364 kB/s  eta 0:00:01\n",
      "\u001b[?25hRequirement already satisfied: urllib3>=1.21.1 in /usr/lib/python3/dist-packages (from qiskit-ibmq-provider==0.19.0->qiskit) (1.25.8)\n",
      "Collecting requests-ntlm>=1.1.0\n",
      "  Downloading requests_ntlm-1.1.0-py2.py3-none-any.whl (5.7 kB)\n",
      "Collecting websockets>=10.0; python_version >= \"3.7\"\n",
      "  Downloading websockets-10.2-cp38-cp38-manylinux_2_5_x86_64.manylinux1_x86_64.manylinux_2_12_x86_64.manylinux2010_x86_64.whl (110 kB)\n",
      "\u001b[K     |████████████████████████████████| 110 kB 39.6 MB/s eta 0:00:01\n",
      "\u001b[?25hRequirement already satisfied: requests>=2.19 in /usr/lib/python3/dist-packages (from qiskit-ibmq-provider==0.19.0->qiskit) (2.22.0)\n",
      "Requirement already satisfied: setuptools>=40.1.0 in /home/jp/.local/lib/python3.8/site-packages (from qiskit-ignis==0.7.0->qiskit) (50.3.2)\n",
      "Collecting mpmath>=0.19\n",
      "  Downloading mpmath-1.2.1-py3-none-any.whl (532 kB)\n",
      "\u001b[K     |████████████████████████████████| 532 kB 18.9 MB/s eta 0:00:01\n",
      "\u001b[?25hRequirement already satisfied: six>=1.5 in /usr/lib/python3/dist-packages (from python-dateutil>=2.8.0->qiskit-terra==0.20.0->qiskit) (1.14.0)\n",
      "Collecting pbr!=2.1.0,>=2.0.0\n",
      "  Downloading pbr-5.8.1-py2.py3-none-any.whl (113 kB)\n",
      "\u001b[K     |████████████████████████████████| 113 kB 24.7 MB/s eta 0:00:01\n",
      "\u001b[?25hCollecting ntlm-auth>=1.0.2\n",
      "  Downloading ntlm_auth-1.5.0-py2.py3-none-any.whl (29 kB)\n",
      "Requirement already satisfied: cryptography>=1.3 in /usr/lib/python3/dist-packages (from requests-ntlm>=1.1.0->qiskit-ibmq-provider==0.19.0->qiskit) (2.8)\n",
      "Building wheels for collected packages: qiskit, python-constraint\n",
      "  Building wheel for qiskit (setup.py) ... \u001b[?25ldone\n",
      "\u001b[?25h  Created wheel for qiskit: filename=qiskit-0.36.0-py3-none-any.whl size=11847 sha256=8204da4c071df8bb7a99d456a61ae00765450d6f81429c04a648ea4f3980fb42\n",
      "  Stored in directory: /home/jp/.cache/pip/wheels/17/9a/77/2bcb247a27f566c157de1fb8d63603def70b7abdd36b10104c\n",
      "  Building wheel for python-constraint (setup.py) ... \u001b[?25ldone\n",
      "\u001b[?25h  Created wheel for python-constraint: filename=python_constraint-1.4.0-py2.py3-none-any.whl size=24080 sha256=ce573acd1a72befb618fb6babd0d193f24137b5753293d91861a562e1bf83675\n",
      "  Stored in directory: /home/jp/.cache/pip/wheels/86/ba/5c/4e9115777de42c6a2e1ca77ef7c9d0d479254c5080341b55c5\n",
      "Successfully built qiskit python-constraint\n",
      "Installing collected packages: mpmath, sympy, python-constraint, ply, pbr, stevedore, tweedledum, retworkx, symengine, dill, scipy, qiskit-terra, qiskit-aer, websocket-client, ntlm-auth, requests-ntlm, websockets, qiskit-ibmq-provider, qiskit-ignis, qiskit\n",
      "Successfully installed dill-0.3.4 mpmath-1.2.1 ntlm-auth-1.5.0 pbr-5.8.1 ply-3.11 python-constraint-1.4.0 qiskit-0.36.0 qiskit-aer-0.10.4 qiskit-ibmq-provider-0.19.0 qiskit-ignis-0.7.0 qiskit-terra-0.20.0 requests-ntlm-1.1.0 retworkx-0.11.0 scipy-1.8.0 stevedore-3.5.0 symengine-0.9.2 sympy-1.10.1 tweedledum-1.1.1 websocket-client-1.3.2 websockets-10.2\n",
      "Collecting pennylane\n",
      "  Downloading PennyLane-0.22.2-py3-none-any.whl (880 kB)\n",
      "\u001b[K     |████████████████████████████████| 880 kB 1.2 MB/s eta 0:00:01\n",
      "\u001b[?25hCollecting autograd\n",
      "  Downloading autograd-1.4-py3-none-any.whl (48 kB)\n",
      "\u001b[K     |████████████████████████████████| 48 kB 917 kB/s  eta 0:00:01\n",
      "\u001b[?25hCollecting cachetools\n",
      "  Downloading cachetools-5.0.0-py3-none-any.whl (9.1 kB)\n",
      "Requirement already satisfied, skipping upgrade: scipy in /home/jp/.local/lib/python3.8/site-packages (from pennylane) (1.8.0)\n",
      "Collecting semantic-version==2.6\n",
      "  Downloading semantic_version-2.6.0-py3-none-any.whl (14 kB)\n",
      "Requirement already satisfied, skipping upgrade: retworkx in /home/jp/.local/lib/python3.8/site-packages (from pennylane) (0.11.0)\n",
      "Requirement already satisfied, skipping upgrade: networkx in /usr/local/lib/python3.8/dist-packages (from pennylane) (2.6.3)\n",
      "Collecting autoray\n",
      "  Downloading autoray-0.2.5-py3-none-any.whl (16 kB)\n",
      "Requirement already satisfied, skipping upgrade: toml in /home/jp/.local/lib/python3.8/site-packages (from pennylane) (0.10.1)\n",
      "Collecting appdirs\n",
      "  Downloading appdirs-1.4.4-py2.py3-none-any.whl (9.6 kB)\n",
      "Requirement already satisfied, skipping upgrade: numpy in /usr/lib/python3/dist-packages (from pennylane) (1.17.4)\n",
      "Collecting pennylane-lightning>=0.22\n",
      "  Downloading PennyLane_Lightning-0.22.1-cp38-cp38-manylinux_2_17_x86_64.manylinux2014_x86_64.whl (8.4 MB)\n",
      "\u001b[K     |████████████████████████████████| 8.4 MB 18.6 MB/s eta 0:00:01\n",
      "\u001b[?25hRequirement already satisfied, skipping upgrade: future>=0.15.2 in /usr/lib/python3/dist-packages (from autograd->pennylane) (0.18.2)\n",
      "Collecting ninja\n",
      "  Downloading ninja-1.10.2.3-py2.py3-none-manylinux_2_5_x86_64.manylinux1_x86_64.whl (108 kB)\n",
      "\u001b[K     |████████████████████████████████| 108 kB 41.1 MB/s eta 0:00:01\n",
      "\u001b[?25hInstalling collected packages: autograd, cachetools, semantic-version, autoray, appdirs, ninja, pennylane-lightning, pennylane\n",
      "Successfully installed appdirs-1.4.4 autograd-1.4 autoray-0.2.5 cachetools-5.0.0 ninja-1.10.2.3 pennylane-0.22.2 pennylane-lightning-0.22.1 semantic-version-2.6.0\n",
      "Collecting tensorflow\n",
      "  Downloading tensorflow-2.8.0-cp38-cp38-manylinux2010_x86_64.whl (497.6 MB)\n",
      "\u001b[K     |████████████████████████████████| 497.6 MB 660 bytes/s  0:00:011    |████▊                           | 72.8 MB 34.6 MB/s eta 0:00:13MB 34.6 MB/s eta 0:00:12��████████▏                   | 189.8 MB 8.3 MB/s eta 0:00:37��███████████████████▋   | 444.4 MB 510 kB/s eta 0:01:45ta 0:00:02     |██████████████████████████████▏ | 468.8 MB 24.0 MB/s eta 0:00:02     |██████████████████████████████▌ | 474.4 MB 24.0 MB/s eta 0:00:0190.0 MB 1.4 MB/s eta 0:00:06\n",
      "\u001b[?25hCollecting opt-einsum>=2.3.2\n",
      "  Downloading opt_einsum-3.3.0-py3-none-any.whl (65 kB)\n",
      "\u001b[K     |████████████████████████████████| 65 kB 163 kB/s  eta 0:00:01\n",
      "\u001b[?25hCollecting h5py>=2.9.0\n",
      "  Downloading h5py-3.6.0-cp38-cp38-manylinux_2_12_x86_64.manylinux2010_x86_64.whl (4.5 MB)\n",
      "\u001b[K     |████████████████████████████████| 4.5 MB 53.4 MB/s eta 0:00:01\n",
      "\u001b[?25hCollecting tensorboard<2.9,>=2.8\n",
      "  Downloading tensorboard-2.8.0-py3-none-any.whl (5.8 MB)\n",
      "\u001b[K     |████████████████████████████████| 5.8 MB 19.9 MB/s eta 0:00:01\n",
      "\u001b[?25hCollecting termcolor>=1.1.0\n",
      "  Downloading termcolor-1.1.0.tar.gz (3.9 kB)\n",
      "Requirement already satisfied, skipping upgrade: typing-extensions>=3.6.6 in /home/jp/.local/lib/python3.8/site-packages (from tensorflow) (3.10.0.2)\n",
      "Collecting astunparse>=1.6.0\n",
      "  Downloading astunparse-1.6.3-py2.py3-none-any.whl (12 kB)\n",
      "Collecting gast>=0.2.1\n",
      "  Downloading gast-0.5.3-py3-none-any.whl (19 kB)\n",
      "Collecting google-pasta>=0.1.1\n",
      "  Downloading google_pasta-0.2.0-py3-none-any.whl (57 kB)\n",
      "\u001b[K     |████████████████████████████████| 57 kB 128 kB/s  eta 0:00:01\n",
      "\u001b[?25hRequirement already satisfied, skipping upgrade: wrapt>=1.11.0 in /home/jp/.local/lib/python3.8/site-packages (from tensorflow) (1.12.1)\n",
      "Collecting flatbuffers>=1.12\n",
      "  Downloading flatbuffers-2.0-py2.py3-none-any.whl (26 kB)\n",
      "Collecting keras<2.9,>=2.8.0rc0\n",
      "  Downloading keras-2.8.0-py2.py3-none-any.whl (1.4 MB)\n",
      "\u001b[K     |████████████████████████████████| 1.4 MB 41.4 MB/s eta 0:00:01\n",
      "\u001b[?25hCollecting grpcio<2.0,>=1.24.3\n",
      "  Downloading grpcio-1.44.0-cp38-cp38-manylinux_2_17_x86_64.manylinux2014_x86_64.whl (4.3 MB)\n",
      "\u001b[K     |████████████████████████████████| 4.3 MB 59.8 MB/s eta 0:00:01\n",
      "\u001b[?25hCollecting tensorflow-io-gcs-filesystem>=0.23.1\n",
      "  Downloading tensorflow_io_gcs_filesystem-0.24.0-cp38-cp38-manylinux_2_12_x86_64.manylinux2010_x86_64.whl (2.1 MB)\n",
      "\u001b[K     |████████████████████████████████| 2.1 MB 50.6 MB/s eta 0:00:01\n",
      "\u001b[?25hRequirement already satisfied, skipping upgrade: six>=1.12.0 in /usr/lib/python3/dist-packages (from tensorflow) (1.14.0)\n",
      "Collecting keras-preprocessing>=1.1.1\n",
      "  Downloading Keras_Preprocessing-1.1.2-py2.py3-none-any.whl (42 kB)\n",
      "\u001b[K     |████████████████████████████████| 42 kB 102 kB/s  eta 0:00:01\n",
      "\u001b[?25hCollecting absl-py>=0.4.0\n",
      "  Downloading absl_py-1.0.0-py3-none-any.whl (126 kB)\n",
      "\u001b[K     |████████████████████████████████| 126 kB 22.9 MB/s eta 0:00:01\n",
      "\u001b[?25hRequirement already satisfied, skipping upgrade: setuptools in /home/jp/.local/lib/python3.8/site-packages (from tensorflow) (50.3.2)\n",
      "Requirement already satisfied, skipping upgrade: libclang>=9.0.1 in /home/jp/.local/lib/python3.8/site-packages (from tensorflow) (12.0.0)\n",
      "Collecting numpy>=1.20\n",
      "  Downloading numpy-1.22.3-cp38-cp38-manylinux_2_17_x86_64.manylinux2014_x86_64.whl (16.8 MB)\n",
      "\u001b[K     |████████████████████████████████| 16.8 MB 31.0 MB/s eta 0:00:01\n",
      "\u001b[?25hCollecting protobuf>=3.9.2\n",
      "  Downloading protobuf-3.20.0-cp38-cp38-manylinux_2_5_x86_64.manylinux1_x86_64.whl (1.0 MB)\n",
      "\u001b[K     |████████████████████████████████| 1.0 MB 26.6 MB/s eta 0:00:01\n",
      "\u001b[?25hCollecting tf-estimator-nightly==2.8.0.dev2021122109\n",
      "  Downloading tf_estimator_nightly-2.8.0.dev2021122109-py2.py3-none-any.whl (462 kB)\n",
      "\u001b[K     |████████████████████████████████| 462 kB 48.3 MB/s eta 0:00:01\n",
      "\u001b[?25hCollecting tensorboard-data-server<0.7.0,>=0.6.0\n",
      "  Downloading tensorboard_data_server-0.6.1-py3-none-manylinux2010_x86_64.whl (4.9 MB)\n",
      "\u001b[K     |████████████████████████████████| 4.9 MB 12.1 MB/s eta 0:00:01\n",
      "\u001b[?25hCollecting google-auth<3,>=1.6.3\n",
      "  Downloading google_auth-2.6.4-py2.py3-none-any.whl (156 kB)\n",
      "\u001b[K     |████████████████████████████████| 156 kB 25.2 MB/s eta 0:00:01\n",
      "\u001b[?25hRequirement already satisfied, skipping upgrade: wheel>=0.26 in /home/jp/.local/lib/python3.8/site-packages (from tensorboard<2.9,>=2.8->tensorflow) (0.35.1)\n",
      "Collecting werkzeug>=0.11.15\n",
      "  Downloading Werkzeug-2.1.1-py3-none-any.whl (224 kB)\n",
      "\u001b[K     |████████████████████████████████| 224 kB 18.9 MB/s eta 0:00:01\n",
      "\u001b[?25hCollecting markdown>=2.6.8\n",
      "  Downloading Markdown-3.3.6-py3-none-any.whl (97 kB)\n",
      "\u001b[K     |████████████████████████████████| 97 kB 2.4 MB/s  eta 0:00:01\n",
      "\u001b[?25hCollecting google-auth-oauthlib<0.5,>=0.4.1\n",
      "  Downloading google_auth_oauthlib-0.4.6-py2.py3-none-any.whl (18 kB)\n",
      "Requirement already satisfied, skipping upgrade: requests<3,>=2.21.0 in /usr/lib/python3/dist-packages (from tensorboard<2.9,>=2.8->tensorflow) (2.22.0)\n",
      "Collecting tensorboard-plugin-wit>=1.6.0\n",
      "  Downloading tensorboard_plugin_wit-1.8.1-py3-none-any.whl (781 kB)\n",
      "\u001b[K     |████████████████████████████████| 781 kB 19.4 MB/s eta 0:00:01\n",
      "\u001b[?25hCollecting pyasn1-modules>=0.2.1\n",
      "  Downloading pyasn1_modules-0.2.8-py2.py3-none-any.whl (155 kB)\n",
      "\u001b[K     |████████████████████████████████| 155 kB 43.2 MB/s eta 0:00:01\n",
      "\u001b[?25hCollecting rsa<5,>=3.1.4; python_version >= \"3.6\"\n",
      "  Downloading rsa-4.8-py3-none-any.whl (39 kB)\n",
      "Requirement already satisfied, skipping upgrade: cachetools<6.0,>=2.0.0 in /home/jp/.local/lib/python3.8/site-packages (from google-auth<3,>=1.6.3->tensorboard<2.9,>=2.8->tensorflow) (5.0.0)\n",
      "Collecting importlib-metadata>=4.4; python_version < \"3.10\"\n",
      "  Downloading importlib_metadata-4.11.3-py3-none-any.whl (18 kB)\n",
      "Collecting requests-oauthlib>=0.7.0\n",
      "  Downloading requests_oauthlib-1.3.1-py2.py3-none-any.whl (23 kB)\n",
      "Collecting pyasn1<0.5.0,>=0.4.6\n",
      "  Downloading pyasn1-0.4.8-py2.py3-none-any.whl (77 kB)\n",
      "\u001b[K     |████████████████████████████████| 77 kB 2.1 MB/s  eta 0:00:01\n",
      "\u001b[?25hCollecting zipp>=0.5\n",
      "  Downloading zipp-3.8.0-py3-none-any.whl (5.4 kB)\n",
      "Requirement already satisfied, skipping upgrade: oauthlib>=3.0.0 in /usr/lib/python3/dist-packages (from requests-oauthlib>=0.7.0->google-auth-oauthlib<0.5,>=0.4.1->tensorboard<2.9,>=2.8->tensorflow) (3.1.0)\n",
      "Building wheels for collected packages: termcolor\n",
      "  Building wheel for termcolor (setup.py) ... \u001b[?25ldone\n",
      "\u001b[?25h  Created wheel for termcolor: filename=termcolor-1.1.0-py3-none-any.whl size=4830 sha256=6cef8530eb69f06082588d5177e4ea4ff888fa34be209e2347db196e4e84dacc\n",
      "  Stored in directory: /home/jp/.cache/pip/wheels/a0/16/9c/5473df82468f958445479c59e784896fa24f4a5fc024b0f501\n",
      "Successfully built termcolor\n",
      "Installing collected packages: numpy, opt-einsum, h5py, absl-py, protobuf, tensorboard-data-server, pyasn1, pyasn1-modules, rsa, google-auth, werkzeug, zipp, importlib-metadata, markdown, grpcio, requests-oauthlib, google-auth-oauthlib, tensorboard-plugin-wit, tensorboard, termcolor, astunparse, gast, google-pasta, flatbuffers, keras, tensorflow-io-gcs-filesystem, keras-preprocessing, tf-estimator-nightly, tensorflow\n",
      "Successfully installed absl-py-1.0.0 astunparse-1.6.3 flatbuffers-2.0 gast-0.5.3 google-auth-2.6.4 google-auth-oauthlib-0.4.6 google-pasta-0.2.0 grpcio-1.44.0 h5py-3.6.0 importlib-metadata-4.11.3 keras-2.8.0 keras-preprocessing-1.1.2 markdown-3.3.6 numpy-1.22.3 opt-einsum-3.3.0 protobuf-3.20.0 pyasn1-0.4.8 pyasn1-modules-0.2.8 requests-oauthlib-1.3.1 rsa-4.8 tensorboard-2.8.0 tensorboard-data-server-0.6.1 tensorboard-plugin-wit-1.8.1 tensorflow-2.8.0 tensorflow-io-gcs-filesystem-0.24.0 termcolor-1.1.0 tf-estimator-nightly-2.8.0.dev2021122109 werkzeug-2.1.1 zipp-3.8.0\n",
      "Collecting matplotlib\n",
      "  Downloading matplotlib-3.5.1-cp38-cp38-manylinux_2_5_x86_64.manylinux1_x86_64.whl (11.3 MB)\n",
      "\u001b[K     |████████████████████████████████| 11.3 MB 41 kB/s  eta 0:00:01\n",
      "\u001b[?25hCollecting kiwisolver>=1.0.1\n",
      "  Downloading kiwisolver-1.4.2-cp38-cp38-manylinux_2_5_x86_64.manylinux1_x86_64.whl (1.2 MB)\n",
      "\u001b[K     |████████████████████████████████| 1.2 MB 40.5 MB/s eta 0:00:01\n",
      "\u001b[?25hRequirement already satisfied: numpy>=1.17 in /home/jp/.local/lib/python3.8/site-packages (from matplotlib) (1.22.3)\n",
      "Collecting fonttools>=4.22.0\n",
      "  Downloading fonttools-4.32.0-py3-none-any.whl (900 kB)\n",
      "\u001b[K     |████████████████████████████████| 900 kB 22.2 MB/s eta 0:00:01\n",
      "\u001b[?25hRequirement already satisfied: packaging>=20.0 in /home/jp/.local/lib/python3.8/site-packages (from matplotlib) (20.9)\n",
      "Collecting cycler>=0.10\n",
      "  Downloading cycler-0.11.0-py3-none-any.whl (6.4 kB)\n",
      "Requirement already satisfied: pillow>=6.2.0 in /usr/lib/python3/dist-packages (from matplotlib) (7.0.0)\n",
      "Requirement already satisfied: python-dateutil>=2.7 in /usr/local/lib/python3.8/dist-packages (from matplotlib) (2.8.2)\n",
      "Requirement already satisfied: pyparsing>=2.2.1 in /home/jp/.local/lib/python3.8/site-packages (from matplotlib) (2.4.7)\n",
      "Requirement already satisfied: six>=1.5 in /usr/lib/python3/dist-packages (from python-dateutil>=2.7->matplotlib) (1.14.0)\n",
      "Installing collected packages: kiwisolver, fonttools, cycler, matplotlib\n",
      "Successfully installed cycler-0.11.0 fonttools-4.32.0 kiwisolver-1.4.2 matplotlib-3.5.1\n"
     ]
    }
   ],
   "source": [
    "!pip install qiskit\n",
    "!pip install pennylane --upgrade\n",
    "!pip install --upgrade tensorflow\n",
    "!pip install matplotlib"
   ]
  },
  {
   "cell_type": "code",
   "execution_count": 232,
   "metadata": {},
   "outputs": [],
   "source": [
    "from qiskit import *\n",
    "from qiskit.quantum_info.operators import Operator\n",
    "from qiskit.visualization import plot_histogram\n",
    "from qiskit.algorithms.optimizers import SPSA\n",
    "import pennylane as qml\n",
    "from pennylane import numpy as np\n",
    "from pennylane.templates import RandomLayers\n",
    "import tensorflow as tf\n",
    "from tensorflow import keras\n",
    "import matplotlib.pyplot as plt\n",
    "\n",
    "\n",
    "import numpy as np"
   ]
  },
  {
   "cell_type": "markdown",
   "metadata": {},
   "source": [
    "## $U_i$"
   ]
  },
  {
   "cell_type": "code",
   "execution_count": 5,
   "metadata": {},
   "outputs": [],
   "source": [
    "def Ui(theta:[float]):\n",
    "\n",
    "    numQubits = int(np.log2(len(theta)))\n",
    "\n",
    "    register = QuantumRegister(numQubits)\n",
    "\n",
    "    circuito = QuantumCircuit(register, name = \"U(i)\")\n",
    "\n",
    "    circuito.h(range(numQubits))\n",
    "\n",
    "    thetaTil = list(map(lambda x: x-theta[0], theta[1:]))\n",
    "\n",
    "    for i in range(len(thetaTil)):\n",
    "\n",
    "        num = bin(i+1)[2:].zfill(numQubits)\n",
    "\n",
    "        count=0 # essa variavel vai guardar em que posicao na string estamos\n",
    "\n",
    "        for j in num: # iterando pelos caracteres de num\n",
    "\n",
    "            if(j=='0'):\n",
    "\n",
    "                circuito.x(count)\n",
    "\n",
    "            count+=1\n",
    "\n",
    "        circuito.mcp(thetaTil[i], list(range(len(num)-1)), len(num)-1)\n",
    "\n",
    "        count=0 # essa variavel vai guardar em que posicao na string estamos\n",
    "\n",
    "        for j in num: # iterando pelos caracteres de num\n",
    "\n",
    "            if(j=='0'):\n",
    "\n",
    "                circuito.x(count) # desfazendo os nots\n",
    "\n",
    "            count+=1\n",
    "\n",
    "    return circuito.to_gate()"
   ]
  },
  {
   "cell_type": "code",
   "execution_count": 4,
   "metadata": {},
   "outputs": [
    {
     "data": {
      "text/html": [
       "<pre style=\"word-wrap: normal;white-space: pre;background: #fff0;line-height: 1.1;font-family: &quot;Courier New&quot;,Courier,monospace\">      ┌───┐┌───┐       ┌───┐                   \n",
       "qr_0: ┤ H ├┤ X ├─■─────┤ X ├─■───────────■─────\n",
       "      ├───┤└───┘ │P(2) ├───┤ │P(3) ┌───┐ │P(1) \n",
       "qr_1: ┤ H ├──────■─────┤ X ├─■─────┤ X ├─■─────\n",
       "      └───┘            └───┘       └───┘       </pre>"
      ],
      "text/plain": [
       "      ┌───┐┌───┐       ┌───┐                   \n",
       "qr_0: ┤ H ├┤ X ├─■─────┤ X ├─■───────────■─────\n",
       "      ├───┤└───┘ │P(2) ├───┤ │P(3) ┌───┐ │P(1) \n",
       "qr_1: ┤ H ├──────■─────┤ X ├─■─────┤ X ├─■─────\n",
       "      └───┘            └───┘       └───┘       "
      ]
     },
     "execution_count": 4,
     "metadata": {},
     "output_type": "execute_result"
    }
   ],
   "source": [
    "thetaEx = [10, 12, 13, 11]\n",
    "\n",
    "register1 = QuantumRegister(2, name='qr')\n",
    "\n",
    "circuito = QuantumCircuit(register1)\n",
    "circuito.append(Ui(thetaEx), [0,1])\n",
    "\n",
    "circuito.decompose().draw()"
   ]
  },
  {
   "cell_type": "markdown",
   "metadata": {},
   "source": [
    "## $U_w$"
   ]
  },
  {
   "cell_type": "code",
   "execution_count": 6,
   "metadata": {},
   "outputs": [],
   "source": [
    "def Uw(phi:[float]):\n",
    "\n",
    "    numQubits = int(np.log2(len(phi)))\n",
    "\n",
    "    register = QuantumRegister(numQubits)\n",
    "\n",
    "    circuito = QuantumCircuit(register, name = \"U(w)\")   \n",
    "\n",
    "    phiTil = list(map(lambda x: (x-phi[0])*(-1), phi[1:])) # Phase(lambda)^daga == Phase(-lambda)\n",
    "\n",
    "    for i in range(len(phiTil)):\n",
    "\n",
    "        num = bin(i+1)[2:].zfill(numQubits)\n",
    "\n",
    "        count=0 # essa variavel vai guardar em que posicao na string estamos\n",
    "\n",
    "        for j in num: # iterando pelos caracteres de num\n",
    "\n",
    "            if(j=='0'):\n",
    "\n",
    "                circuito.x(count)\n",
    "\n",
    "            count+=1\n",
    "\n",
    "        circuito.mcp(phiTil[i], list(range(len(num)-1)), len(num)-1)\n",
    "\n",
    "        count=0 # essa variavel vai guardar em que posicao na string estamos\n",
    "\n",
    "        for j in num: # iterando pelos caracteres de num\n",
    "\n",
    "            if(j=='0'):\n",
    "\n",
    "                circuito.x(count) # desfazendo os nots\n",
    "\n",
    "            count+=1\n",
    "\n",
    "    circuito.h(range(numQubits))\n",
    "\n",
    "    circuito.x(range(numQubits))\n",
    "\n",
    "    return circuito.to_gate()"
   ]
  },
  {
   "cell_type": "code",
   "execution_count": 5,
   "metadata": {},
   "outputs": [
    {
     "data": {
      "text/html": [
       "<pre style=\"word-wrap: normal;white-space: pre;background: #fff0;line-height: 1.1;font-family: &quot;Courier New&quot;,Courier,monospace\">      ┌───┐        ┌───┐                     ┌───┐┌───┐\n",
       "qr_0: ┤ X ├─■──────┤ X ├─■────────────■──────┤ H ├┤ X ├\n",
       "      └───┘ │P(-2) ├───┤ │P(-3) ┌───┐ │P(-1) ├───┤├───┤\n",
       "qr_1: ──────■──────┤ X ├─■──────┤ X ├─■──────┤ H ├┤ X ├\n",
       "                   └───┘        └───┘        └───┘└───┘</pre>"
      ],
      "text/plain": [
       "      ┌───┐        ┌───┐                     ┌───┐┌───┐\n",
       "qr_0: ┤ X ├─■──────┤ X ├─■────────────■──────┤ H ├┤ X ├\n",
       "      └───┘ │P(-2) ├───┤ │P(-3) ┌───┐ │P(-1) ├───┤├───┤\n",
       "qr_1: ──────■──────┤ X ├─■──────┤ X ├─■──────┤ H ├┤ X ├\n",
       "                   └───┘        └───┘        └───┘└───┘"
      ]
     },
     "execution_count": 5,
     "metadata": {},
     "output_type": "execute_result"
    }
   ],
   "source": [
    "phiEx = [10, 12, 13, 11]\n",
    "\n",
    "register1 = QuantumRegister(2, name='qr')\n",
    "\n",
    "circuito = QuantumCircuit(register1)\n",
    "circuito.append(Uw(phiEx), [0,1])\n",
    "\n",
    "circuito.decompose().draw()"
   ]
  },
  {
   "cell_type": "markdown",
   "metadata": {},
   "source": [
    "## Teste"
   ]
  },
  {
   "cell_type": "code",
   "execution_count": 7,
   "metadata": {},
   "outputs": [
    {
     "data": {
      "text/html": [
       "<pre style=\"word-wrap: normal;white-space: pre;background: #fff0;line-height: 1.1;font-family: &quot;Courier New&quot;,Courier,monospace\">        ┌───────┐ ░ ┌───────┐ ░         \n",
       "  q1_0: ┤0      ├─░─┤0      ├─░───■─────\n",
       "        │  U(i) │ ░ │  U(w) │ ░   │     \n",
       "  q1_1: ┤1      ├─░─┤1      ├─░───■─────\n",
       "        └───────┘ ░ └───────┘ ░ ┌─┴─┐┌─┐\n",
       "output: ──────────░───────────░─┤ X ├┤M├\n",
       "                  ░           ░ └───┘└╥┘\n",
       "  c0: 1/══════════════════════════════╩═\n",
       "                                      0 </pre>"
      ],
      "text/plain": [
       "        ┌───────┐ ░ ┌───────┐ ░         \n",
       "  q1_0: ┤0      ├─░─┤0      ├─░───■─────\n",
       "        │  U(i) │ ░ │  U(w) │ ░   │     \n",
       "  q1_1: ┤1      ├─░─┤1      ├─░───■─────\n",
       "        └───────┘ ░ └───────┘ ░ ┌─┴─┐┌─┐\n",
       "output: ──────────░───────────░─┤ X ├┤M├\n",
       "                  ░           ░ └───┘└╥┘\n",
       "  c0: 1/══════════════════════════════╩═\n",
       "                                      0 "
      ]
     },
     "execution_count": 7,
     "metadata": {},
     "output_type": "execute_result"
    }
   ],
   "source": [
    "register = QuantumRegister(2)\n",
    "\n",
    "register2 = QuantumRegister(1, name='output')\n",
    "\n",
    "classicalBit = ClassicalRegister(1)\n",
    "\n",
    "circuito = QuantumCircuit(register, register2, classicalBit)\n",
    "\n",
    "thetaEx = [np.pi/6, np.pi/4, np.pi/2, np.pi]\n",
    "phiEx = [0, np.pi/2, np.pi/4, np.pi/6]\n",
    "\n",
    "circuito.append(Ui(thetaEx), [0,1])\n",
    "circuito.barrier()\n",
    "circuito.append(Uw(phiEx), [0,1])\n",
    "circuito.barrier()\n",
    "\n",
    "circuito.mcx([0,1], 2)\n",
    "\n",
    "circuito.measure(2,0)\n",
    "\n",
    "circuito.draw()"
   ]
  },
  {
   "cell_type": "code",
   "execution_count": 8,
   "metadata": {},
   "outputs": [
    {
     "data": {
      "image/png": "[encoded data removed]",
      "text/plain": [
       "<Figure size 504x360 with 1 Axes>"
      ]
     },
     "execution_count": 8,
     "metadata": {},
     "output_type": "execute_result"
    }
   ],
   "source": [
    "sim = Aer.get_backend('aer_simulator')  # Tell Qiskit how to simulate our circuit\n",
    "\n",
    "qobj = assemble(circuito.decompose())     # Create a Qobj from the circuit for the simulator to run\n",
    "counts = sim.run(qobj).result().get_counts()\n",
    "plot_histogram(counts)"
   ]
  },
  {
   "cell_type": "code",
   "execution_count": 237,
   "metadata": {},
   "outputs": [],
   "source": [
    "n_epochs = 30   # Number of optimization epochs\n",
    "n_layers = 1    # Number of random layers\n",
    "n_train = 50    # Size of the train dataset\n",
    "n_test = 30     # Size of the test dataset"
   ]
  },
  {
   "cell_type": "markdown",
   "metadata": {},
   "source": [
    "### Pre processamento"
   ]
  },
  {
   "cell_type": "code",
   "execution_count": 192,
   "metadata": {},
   "outputs": [
    {
     "data": {
      "image/png": "[encoded data removed]",
      "text/plain": [
       "<Figure size 432x288 with 1 Axes>"
      ]
     },
     "metadata": {
      "needs_background": "light"
     },
     "output_type": "display_data"
    }
   ],
   "source": [
    "mnist_dataset = keras.datasets.mnist\n",
    "(X_train, Y_train), (X_test, Y_test) = mnist_dataset.load_data()\n",
    "\n",
    "train_zero_mask = np.isin(Y_train, [0])\n",
    "test_zero_mask = np.isin(Y_test, [0])\n",
    "train_one_mask = np.isin(Y_train, [1])\n",
    "test_one_mask = np.isin(Y_test, [1])\n",
    "\n",
    "X_zero_train, Y_zero_train = X_train[train_zero_mask], np.array(Y_train[train_zero_mask] == 1)\n",
    "X_zero_test, Y_zero_test = X_test[test_zero_mask], np.array(Y_test[test_zero_mask] == 1)\n",
    "\n",
    "X_one_train, Y_one_train = X_train[train_one_mask], np.array(Y_train[train_one_mask] == 1)\n",
    "X_one_test, Y_one_test = X_test[test_one_mask], np.array(Y_test[test_one_mask] == 1)\n",
    "\n",
    "plt.imshow(X_zero_train[0], cmap= \"gray\")\n",
    "plt.show()"
   ]
  },
  {
   "cell_type": "markdown",
   "metadata": {},
   "source": [
    "### Diminuindo o tamanho das amostras"
   ]
  },
  {
   "cell_type": "code",
   "execution_count": 193,
   "metadata": {},
   "outputs": [],
   "source": [
    "weightImageOne = X_one_test[51]"
   ]
  },
  {
   "cell_type": "code",
   "execution_count": 194,
   "metadata": {},
   "outputs": [
    {
     "data": {
      "text/plain": [
       "(28, 28)"
      ]
     },
     "execution_count": 194,
     "metadata": {},
     "output_type": "execute_result"
    }
   ],
   "source": [
    "weightImageOne.shape"
   ]
  },
  {
   "cell_type": "code",
   "execution_count": 195,
   "metadata": {},
   "outputs": [],
   "source": [
    "weightImageOne = X_one_test[51]\n",
    "X_zero_train = X_zero_train[:n_train]\n",
    "Y_zero_train = Y_zero_train[:n_train]\n",
    "\n",
    "X_one_train = X_one_train[:n_train]\n",
    "Y_one_train = Y_one_train[:n_train]\n",
    "\n",
    "X_zero_test = X_zero_test[:n_test]\n",
    "Y_zero_test = X_zero_test[:n_test]\n",
    "\n",
    "X_one_test = X_one_test[:n_test]\n",
    "Y_one_test = X_one_test[:n_test]"
   ]
  },
  {
   "cell_type": "markdown",
   "metadata": {},
   "source": [
    "### Normalizando as amostras entre zero e $\\pi$"
   ]
  },
  {
   "cell_type": "code",
   "execution_count": 196,
   "metadata": {},
   "outputs": [],
   "source": [
    "X_zero_train = (X_zero_train/255)*(np.pi/2)\n",
    "X_one_test= (X_one_test/255)*(np.pi/2)\n",
    "\n",
    "X_zero_train = (X_zero_train/255)*(np.pi/2)\n",
    "X_one_test= (X_one_test/255)*(np.pi/2)\n",
    "\n",
    "weightImageOne = (weitghtImageOne/255)*(np.pi/2)"
   ]
  },
  {
   "cell_type": "code",
   "execution_count": 197,
   "metadata": {},
   "outputs": [
    {
     "data": {
      "image/png": "[encoded data removed]",
      "text/plain": [
       "<Figure size 432x288 with 1 Axes>"
      ]
     },
     "metadata": {
      "needs_background": "light"
     },
     "output_type": "display_data"
    }
   ],
   "source": [
    "plt.imshow(X_zero_train[0], cmap= \"gray\")\n",
    "plt.show()"
   ]
  },
  {
   "cell_type": "code",
   "execution_count": 198,
   "metadata": {},
   "outputs": [
    {
     "data": {
      "image/png": "[encoded data removed]",
      "text/plain": [
       "<Figure size 432x288 with 1 Axes>"
      ]
     },
     "metadata": {
      "needs_background": "light"
     },
     "output_type": "display_data"
    }
   ],
   "source": [
    "X_zero_train = np.expand_dims(X_zero_train, axis=-1)\n",
    "X_zero_train = tf.image.resize(X_zero_train, [32,32])\n",
    "\n",
    "X_zero_test = np.expand_dims(X_zero_test, axis=-1)\n",
    "X_zero_test = tf.image.resize(X_zero_test, [32,32])\n",
    "\n",
    "X_one_train = np.expand_dims(X_one_train, axis=-1)\n",
    "X_one_train = tf.image.resize(X_one_train, [32,32])\n",
    "\n",
    "X_one_test = np.expand_dims(X_one_test, axis=-1)\n",
    "X_one_test = tf.image.resize(X_one_test, [32,32])\n",
    "\n",
    "#weightImageOne = np.expand_dims(weightImageOne, axis=0)\n",
    "weightImageOne = tf.image.resize(weightImageOne, [32,32])\n",
    "plt.imshow(X_one_train[0], cmap= \"gray\")\n",
    "plt.show()"
   ]
  },
  {
   "cell_type": "code",
   "execution_count": 199,
   "metadata": {},
   "outputs": [
    {
     "data": {
      "text/plain": [
       "TensorShape([50, 32, 32, 1])"
      ]
     },
     "execution_count": 199,
     "metadata": {},
     "output_type": "execute_result"
    }
   ],
   "source": [
    "X_one_train.shape"
   ]
  },
  {
   "cell_type": "markdown",
   "metadata": {},
   "source": [
    "### Transformando imagem em lista de array"
   ]
  },
  {
   "cell_type": "code",
   "execution_count": 228,
   "metadata": {},
   "outputs": [],
   "source": [
    "imageArray = []\n",
    "for i in range(32):\n",
    "    for j in range(32):\n",
    "        imageArray.append(float(X_one_train[48][i][j]))"
   ]
  },
  {
   "cell_type": "code",
   "execution_count": 210,
   "metadata": {},
   "outputs": [],
   "source": [
    "weightArray = []\n",
    "for i in range(32):\n",
    "    for j in range(32):\n",
    "        weightArray.append(float(weightImageOne[i][j]))"
   ]
  },
  {
   "cell_type": "code",
   "execution_count": 229,
   "metadata": {},
   "outputs": [
    {
     "data": {
      "text/html": [
       "<pre style=\"word-wrap: normal;white-space: pre;background: #fff0;line-height: 1.1;font-family: &quot;Courier New&quot;,Courier,monospace\">        ┌───────┐ ░ ┌───────┐        \n",
       " q71_0: ┤0      ├─░─┤0      ├──■─────\n",
       "        │       │ ░ │       │  │     \n",
       " q71_1: ┤1      ├─░─┤1      ├──■─────\n",
       "        │       │ ░ │       │  │     \n",
       " q71_2: ┤2      ├─░─┤2      ├──■─────\n",
       "        │       │ ░ │       │  │     \n",
       " q71_3: ┤3      ├─░─┤3      ├──■─────\n",
       "        │       │ ░ │       │  │     \n",
       " q71_4: ┤4      ├─░─┤4      ├──■─────\n",
       "        │  U(i) │ ░ │  U(w) │  │     \n",
       " q71_5: ┤5      ├─░─┤5      ├──■─────\n",
       "        │       │ ░ │       │  │     \n",
       " q71_6: ┤6      ├─░─┤6      ├──■─────\n",
       "        │       │ ░ │       │  │     \n",
       " q71_7: ┤7      ├─░─┤7      ├──■─────\n",
       "        │       │ ░ │       │  │     \n",
       " q71_8: ┤8      ├─░─┤8      ├──■─────\n",
       "        │       │ ░ │       │  │     \n",
       " q71_9: ┤9      ├─░─┤9      ├──■─────\n",
       "        └───────┘ ░ └───────┘┌─┴─┐┌─┐\n",
       "output: ──────────░──────────┤ X ├┤M├\n",
       "                  ░          └───┘└╥┘\n",
       " c24: 1/═══════════════════════════╩═\n",
       "                                   0 </pre>"
      ],
      "text/plain": [
       "        ┌───────┐ ░ ┌───────┐        \n",
       " q71_0: ┤0      ├─░─┤0      ├──■─────\n",
       "        │       │ ░ │       │  │     \n",
       " q71_1: ┤1      ├─░─┤1      ├──■─────\n",
       "        │       │ ░ │       │  │     \n",
       " q71_2: ┤2      ├─░─┤2      ├──■─────\n",
       "        │       │ ░ │       │  │     \n",
       " q71_3: ┤3      ├─░─┤3      ├──■─────\n",
       "        │       │ ░ │       │  │     \n",
       " q71_4: ┤4      ├─░─┤4      ├──■─────\n",
       "        │  U(i) │ ░ │  U(w) │  │     \n",
       " q71_5: ┤5      ├─░─┤5      ├──■─────\n",
       "        │       │ ░ │       │  │     \n",
       " q71_6: ┤6      ├─░─┤6      ├──■─────\n",
       "        │       │ ░ │       │  │     \n",
       " q71_7: ┤7      ├─░─┤7      ├──■─────\n",
       "        │       │ ░ │       │  │     \n",
       " q71_8: ┤8      ├─░─┤8      ├──■─────\n",
       "        │       │ ░ │       │  │     \n",
       " q71_9: ┤9      ├─░─┤9      ├──■─────\n",
       "        └───────┘ ░ └───────┘┌─┴─┐┌─┐\n",
       "output: ──────────░──────────┤ X ├┤M├\n",
       "                  ░          └───┘└╥┘\n",
       " c24: 1/═══════════════════════════╩═\n",
       "                                   0 "
      ]
     },
     "execution_count": 229,
     "metadata": {},
     "output_type": "execute_result"
    }
   ],
   "source": [
    "numQbits = int(np.log2(len(weightArray)))\n",
    "\n",
    "register = QuantumRegister(numQbits)\n",
    "output = QuantumRegister(1, name='output')\n",
    "classicalBit = ClassicalRegister(1)\n",
    "\n",
    "circuit = QuantumCircuit(register, output, classicalBit)\n",
    "\n",
    "circuit.append(Ui(imageArray), [0,1,2,3,4,5,6,7,8,9])\n",
    "circuit.barrier()\n",
    "circuit.append(Uw(weightArray), [0,1,2,3,4,5,6,7,8,9])\n",
    "circuit.mcx([0,1,2,3,4,5,6,7,8,9], 10)\n",
    "circuit.measure(10,0)\n",
    "circuit.draw()"
   ]
  },
  {
   "cell_type": "code",
   "execution_count": 230,
   "metadata": {},
   "outputs": [
    {
     "data": {
      "image/png": "[encoded data removed]",
      "text/plain": [
       "<Figure size 504x360 with 1 Axes>"
      ]
     },
     "execution_count": 230,
     "metadata": {},
     "output_type": "execute_result"
    }
   ],
   "source": [
    "sim = Aer.get_backend('aer_simulator')  # Tell Qiskit how to simulate our circuit\n",
    "qobj = assemble(circuit.decompose())     # Create a Qobj from the circuit for the simulator to run\n",
    "counts = sim.run(qobj).result().get_counts()\n",
    "plot_histogram(counts)\n",
    "#print(counts)"
   ]
  },
  {
   "cell_type": "code",
   "execution_count": 235,
   "metadata": {},
   "outputs": [],
   "source": [
    "#SPSA.optimize(1024)"
   ]
  },
  {
   "cell_type": "markdown",
   "metadata": {},
   "source": [
    "## Train"
   ]
  },
  {
   "cell_type": "code",
   "execution_count": 236,
   "metadata": {},
   "outputs": [],
   "source": [
    "#for i ate 50:\n",
    "#    for j ate batch\n",
    "        #imagezero[i] -> transformar em vetor\n",
    "        #fazer o circuito\n",
    "        #pegar o resultado\n",
    "        #corrigir o erro\n",
    "        #atualizar o peso\n",
    "    #for j ate batch\n",
    "        #imageone[i] -> transformar em vetor\n",
    "        #fazer o circuito\n",
    "        #pegar o resultado\n",
    "        #corrigir o erro\n",
    "        #atualizar o peso\n",
    "\n",
    "#Executar usando os testes"
   ]
  },
  {
   "cell_type": "code",
   "execution_count": null,
   "metadata": {},
   "outputs": [],
   "source": []
  }
 ],
 "metadata": {
  "interpreter": {
   "hash": "06a6e9066bbeb53b5d1ce66b8de344dab574a4b2c668895e58457d7b51122ee9"
  },
  "kernelspec": {
   "display_name": "Python 3.8.10 64-bit (windows store)",
   "language": "python",
   "name": "python3"
  },
  "language_info": {
   "codemirror_mode": {
    "name": "ipython",
    "version": 3
   },
   "file_extension": ".py",
   "mimetype": "text/x-python",
   "name": "python",
   "nbconvert_exporter": "python",
   "pygments_lexer": "ipython3",
   "version": "3.8.10"
  },
  "orig_nbformat": 4
 },
 "nbformat": 4,
 "nbformat_minor": 2
}
