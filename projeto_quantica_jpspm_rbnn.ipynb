{
 "cells": [
  {
   "cell_type": "markdown",
   "metadata": {},
   "source": [
    "To do:\n",
    "- SPSA Optmizer, como funciona a função do qistkit\n",
    "- O que é o threshold\n",
    "- A função treino\n",
    "- \n",
    "- "
   ]
  },
  {
   "cell_type": "markdown",
   "metadata": {},
   "source": [
    "Anotações:\n",
    "- o Uw é só introduzir $(-1)*\\phi$ do mesmo jeito que foi introduzido o $\\theta$\n",
    "- normalmente o tamanho de theta é uma potência de 2\n",
    "- as portas $X$ são colocadas no cicuito de modo a aplicar a operação $R$ somente ao estado desejado (visto que a porta $R$, da maneira que implementamos, só é aplicada quando o estado atual é $|11>$)\n",
    "- Existe uma porta $P$ que faz o que implementamos como rzao\n",
    "- Lembrar de fazer o theta til em vez de só theta"
   ]
  },
  {
   "cell_type": "code",
   "execution_count": 357,
   "metadata": {},
   "outputs": [
    {
     "name": "stdout",
     "output_type": "stream",
     "text": [
      "Requirement already satisfied: qiskit in /home/jp/.local/lib/python3.8/site-packages (0.36.0)\n",
      "Requirement already satisfied: qiskit-terra==0.20.0 in /home/jp/.local/lib/python3.8/site-packages (from qiskit) (0.20.0)\n",
      "Requirement already satisfied: qiskit-aer==0.10.4 in /home/jp/.local/lib/python3.8/site-packages (from qiskit) (0.10.4)\n",
      "Requirement already satisfied: qiskit-ibmq-provider==0.19.0 in /home/jp/.local/lib/python3.8/site-packages (from qiskit) (0.19.0)\n",
      "Requirement already satisfied: qiskit-ignis==0.7.0 in /home/jp/.local/lib/python3.8/site-packages (from qiskit) (0.7.0)\n",
      "Requirement already satisfied: python-constraint>=1.4 in /home/jp/.local/lib/python3.8/site-packages (from qiskit-terra==0.20.0->qiskit) (1.4.0)\n",
      "Requirement already satisfied: stevedore>=3.0.0 in /home/jp/.local/lib/python3.8/site-packages (from qiskit-terra==0.20.0->qiskit) (3.5.0)\n",
      "Requirement already satisfied: sympy>=1.3 in /home/jp/.local/lib/python3.8/site-packages (from qiskit-terra==0.20.0->qiskit) (1.10.1)\n",
      "Requirement already satisfied: python-dateutil>=2.8.0 in /usr/local/lib/python3.8/dist-packages (from qiskit-terra==0.20.0->qiskit) (2.8.2)\n",
      "Requirement already satisfied: scipy>=1.5 in /home/jp/.local/lib/python3.8/site-packages (from qiskit-terra==0.20.0->qiskit) (1.8.0)\n",
      "Requirement already satisfied: tweedledum<2.0,>=1.1 in /home/jp/.local/lib/python3.8/site-packages (from qiskit-terra==0.20.0->qiskit) (1.1.1)\n",
      "Requirement already satisfied: ply>=3.10 in /home/jp/.local/lib/python3.8/site-packages (from qiskit-terra==0.20.0->qiskit) (3.11)\n",
      "Requirement already satisfied: symengine>=0.9; platform_machine == \"x86_64\" or platform_machine == \"aarch64\" or platform_machine == \"ppc64le\" or platform_machine == \"amd64\" or platform_machine == \"arm64\" in /home/jp/.local/lib/python3.8/site-packages (from qiskit-terra==0.20.0->qiskit) (0.9.2)\n",
      "Requirement already satisfied: dill>=0.3 in /home/jp/.local/lib/python3.8/site-packages (from qiskit-terra==0.20.0->qiskit) (0.3.4)\n",
      "Requirement already satisfied: numpy>=1.17 in /home/jp/.local/lib/python3.8/site-packages (from qiskit-terra==0.20.0->qiskit) (1.22.3)\n",
      "Requirement already satisfied: retworkx>=0.11.0 in /home/jp/.local/lib/python3.8/site-packages (from qiskit-terra==0.20.0->qiskit) (0.11.0)\n",
      "Requirement already satisfied: psutil>=5 in /home/jp/.local/lib/python3.8/site-packages (from qiskit-terra==0.20.0->qiskit) (5.8.0)\n",
      "Requirement already satisfied: websockets>=10.0; python_version >= \"3.7\" in /home/jp/.local/lib/python3.8/site-packages (from qiskit-ibmq-provider==0.19.0->qiskit) (10.2)\n",
      "Requirement already satisfied: requests>=2.19 in /usr/lib/python3/dist-packages (from qiskit-ibmq-provider==0.19.0->qiskit) (2.22.0)\n",
      "Requirement already satisfied: websocket-client>=1.0.1 in /home/jp/.local/lib/python3.8/site-packages (from qiskit-ibmq-provider==0.19.0->qiskit) (1.3.2)\n",
      "Requirement already satisfied: requests-ntlm>=1.1.0 in /home/jp/.local/lib/python3.8/site-packages (from qiskit-ibmq-provider==0.19.0->qiskit) (1.1.0)\n",
      "Requirement already satisfied: urllib3>=1.21.1 in /usr/lib/python3/dist-packages (from qiskit-ibmq-provider==0.19.0->qiskit) (1.25.8)\n",
      "Requirement already satisfied: setuptools>=40.1.0 in /home/jp/.local/lib/python3.8/site-packages (from qiskit-ignis==0.7.0->qiskit) (50.3.2)\n",
      "Requirement already satisfied: pbr!=2.1.0,>=2.0.0 in /home/jp/.local/lib/python3.8/site-packages (from stevedore>=3.0.0->qiskit-terra==0.20.0->qiskit) (5.8.1)\n",
      "Requirement already satisfied: mpmath>=0.19 in /home/jp/.local/lib/python3.8/site-packages (from sympy>=1.3->qiskit-terra==0.20.0->qiskit) (1.2.1)\n",
      "Requirement already satisfied: six>=1.5 in /usr/lib/python3/dist-packages (from python-dateutil>=2.8.0->qiskit-terra==0.20.0->qiskit) (1.14.0)\n",
      "Requirement already satisfied: ntlm-auth>=1.0.2 in /home/jp/.local/lib/python3.8/site-packages (from requests-ntlm>=1.1.0->qiskit-ibmq-provider==0.19.0->qiskit) (1.5.0)\n",
      "Requirement already satisfied: cryptography>=1.3 in /usr/lib/python3/dist-packages (from requests-ntlm>=1.1.0->qiskit-ibmq-provider==0.19.0->qiskit) (2.8)\n",
      "Requirement already up-to-date: pennylane in /home/jp/.local/lib/python3.8/site-packages (0.22.2)\n",
      "Requirement already satisfied, skipping upgrade: pennylane-lightning>=0.22 in /home/jp/.local/lib/python3.8/site-packages (from pennylane) (0.22.1)\n",
      "Requirement already satisfied, skipping upgrade: networkx in /usr/local/lib/python3.8/dist-packages (from pennylane) (2.6.3)\n",
      "Requirement already satisfied, skipping upgrade: autoray in /home/jp/.local/lib/python3.8/site-packages (from pennylane) (0.2.5)\n",
      "Requirement already satisfied, skipping upgrade: scipy in /home/jp/.local/lib/python3.8/site-packages (from pennylane) (1.8.0)\n",
      "Requirement already satisfied, skipping upgrade: retworkx in /home/jp/.local/lib/python3.8/site-packages (from pennylane) (0.11.0)\n",
      "Requirement already satisfied, skipping upgrade: autograd in /home/jp/.local/lib/python3.8/site-packages (from pennylane) (1.4)\n",
      "Requirement already satisfied, skipping upgrade: toml in /home/jp/.local/lib/python3.8/site-packages (from pennylane) (0.10.1)\n",
      "Requirement already satisfied, skipping upgrade: appdirs in /home/jp/.local/lib/python3.8/site-packages (from pennylane) (1.4.4)\n",
      "Requirement already satisfied, skipping upgrade: cachetools in /home/jp/.local/lib/python3.8/site-packages (from pennylane) (5.0.0)\n",
      "Requirement already satisfied, skipping upgrade: semantic-version==2.6 in /home/jp/.local/lib/python3.8/site-packages (from pennylane) (2.6.0)\n",
      "Requirement already satisfied, skipping upgrade: numpy in /home/jp/.local/lib/python3.8/site-packages (from pennylane) (1.22.3)\n",
      "Requirement already satisfied, skipping upgrade: ninja in /home/jp/.local/lib/python3.8/site-packages (from pennylane-lightning>=0.22->pennylane) (1.10.2.3)\n",
      "Requirement already satisfied, skipping upgrade: future>=0.15.2 in /usr/lib/python3/dist-packages (from autograd->pennylane) (0.18.2)\n",
      "Requirement already up-to-date: tensorflow in /home/jp/.local/lib/python3.8/site-packages (2.8.0)\n",
      "Requirement already satisfied, skipping upgrade: astunparse>=1.6.0 in /home/jp/.local/lib/python3.8/site-packages (from tensorflow) (1.6.3)\n",
      "Requirement already satisfied, skipping upgrade: absl-py>=0.4.0 in /home/jp/.local/lib/python3.8/site-packages (from tensorflow) (1.0.0)\n",
      "Requirement already satisfied, skipping upgrade: setuptools in /home/jp/.local/lib/python3.8/site-packages (from tensorflow) (50.3.2)\n",
      "Requirement already satisfied, skipping upgrade: protobuf>=3.9.2 in /home/jp/.local/lib/python3.8/site-packages (from tensorflow) (3.20.0)\n",
      "Requirement already satisfied, skipping upgrade: wrapt>=1.11.0 in /home/jp/.local/lib/python3.8/site-packages (from tensorflow) (1.12.1)\n",
      "Requirement already satisfied, skipping upgrade: keras-preprocessing>=1.1.1 in /home/jp/.local/lib/python3.8/site-packages (from tensorflow) (1.1.2)\n",
      "Requirement already satisfied, skipping upgrade: tensorflow-io-gcs-filesystem>=0.23.1 in /home/jp/.local/lib/python3.8/site-packages (from tensorflow) (0.24.0)\n",
      "Requirement already satisfied, skipping upgrade: google-pasta>=0.1.1 in /home/jp/.local/lib/python3.8/site-packages (from tensorflow) (0.2.0)\n",
      "Requirement already satisfied, skipping upgrade: libclang>=9.0.1 in /home/jp/.local/lib/python3.8/site-packages (from tensorflow) (12.0.0)\n",
      "Requirement already satisfied, skipping upgrade: tensorboard<2.9,>=2.8 in /home/jp/.local/lib/python3.8/site-packages (from tensorflow) (2.8.0)\n",
      "Requirement already satisfied, skipping upgrade: typing-extensions>=3.6.6 in /home/jp/.local/lib/python3.8/site-packages (from tensorflow) (3.10.0.2)\n",
      "Requirement already satisfied, skipping upgrade: six>=1.12.0 in /usr/lib/python3/dist-packages (from tensorflow) (1.14.0)\n",
      "Requirement already satisfied, skipping upgrade: keras<2.9,>=2.8.0rc0 in /home/jp/.local/lib/python3.8/site-packages (from tensorflow) (2.8.0)\n",
      "Requirement already satisfied, skipping upgrade: termcolor>=1.1.0 in /home/jp/.local/lib/python3.8/site-packages (from tensorflow) (1.1.0)\n",
      "Requirement already satisfied, skipping upgrade: flatbuffers>=1.12 in /home/jp/.local/lib/python3.8/site-packages (from tensorflow) (2.0)\n",
      "Requirement already satisfied, skipping upgrade: tf-estimator-nightly==2.8.0.dev2021122109 in /home/jp/.local/lib/python3.8/site-packages (from tensorflow) (2.8.0.dev2021122109)\n",
      "Requirement already satisfied, skipping upgrade: grpcio<2.0,>=1.24.3 in /home/jp/.local/lib/python3.8/site-packages (from tensorflow) (1.44.0)\n",
      "Requirement already satisfied, skipping upgrade: gast>=0.2.1 in /home/jp/.local/lib/python3.8/site-packages (from tensorflow) (0.5.3)\n",
      "Requirement already satisfied, skipping upgrade: h5py>=2.9.0 in /home/jp/.local/lib/python3.8/site-packages (from tensorflow) (3.6.0)\n",
      "Requirement already satisfied, skipping upgrade: numpy>=1.20 in /home/jp/.local/lib/python3.8/site-packages (from tensorflow) (1.22.3)\n",
      "Requirement already satisfied, skipping upgrade: opt-einsum>=2.3.2 in /home/jp/.local/lib/python3.8/site-packages (from tensorflow) (3.3.0)\n",
      "Requirement already satisfied, skipping upgrade: wheel<1.0,>=0.23.0 in /home/jp/.local/lib/python3.8/site-packages (from astunparse>=1.6.0->tensorflow) (0.35.1)\n",
      "Requirement already satisfied, skipping upgrade: werkzeug>=0.11.15 in /home/jp/.local/lib/python3.8/site-packages (from tensorboard<2.9,>=2.8->tensorflow) (2.1.1)\n",
      "Requirement already satisfied, skipping upgrade: google-auth<3,>=1.6.3 in /home/jp/.local/lib/python3.8/site-packages (from tensorboard<2.9,>=2.8->tensorflow) (2.6.4)\n",
      "Requirement already satisfied, skipping upgrade: google-auth-oauthlib<0.5,>=0.4.1 in /home/jp/.local/lib/python3.8/site-packages (from tensorboard<2.9,>=2.8->tensorflow) (0.4.6)\n",
      "Requirement already satisfied, skipping upgrade: tensorboard-data-server<0.7.0,>=0.6.0 in /home/jp/.local/lib/python3.8/site-packages (from tensorboard<2.9,>=2.8->tensorflow) (0.6.1)\n",
      "Requirement already satisfied, skipping upgrade: requests<3,>=2.21.0 in /usr/lib/python3/dist-packages (from tensorboard<2.9,>=2.8->tensorflow) (2.22.0)\n",
      "Requirement already satisfied, skipping upgrade: markdown>=2.6.8 in /home/jp/.local/lib/python3.8/site-packages (from tensorboard<2.9,>=2.8->tensorflow) (3.3.6)\n",
      "Requirement already satisfied, skipping upgrade: tensorboard-plugin-wit>=1.6.0 in /home/jp/.local/lib/python3.8/site-packages (from tensorboard<2.9,>=2.8->tensorflow) (1.8.1)\n",
      "Requirement already satisfied, skipping upgrade: rsa<5,>=3.1.4; python_version >= \"3.6\" in /home/jp/.local/lib/python3.8/site-packages (from google-auth<3,>=1.6.3->tensorboard<2.9,>=2.8->tensorflow) (4.8)\n",
      "Requirement already satisfied, skipping upgrade: pyasn1-modules>=0.2.1 in /home/jp/.local/lib/python3.8/site-packages (from google-auth<3,>=1.6.3->tensorboard<2.9,>=2.8->tensorflow) (0.2.8)\n",
      "Requirement already satisfied, skipping upgrade: cachetools<6.0,>=2.0.0 in /home/jp/.local/lib/python3.8/site-packages (from google-auth<3,>=1.6.3->tensorboard<2.9,>=2.8->tensorflow) (5.0.0)\n",
      "Requirement already satisfied, skipping upgrade: requests-oauthlib>=0.7.0 in /home/jp/.local/lib/python3.8/site-packages (from google-auth-oauthlib<0.5,>=0.4.1->tensorboard<2.9,>=2.8->tensorflow) (1.3.1)\n",
      "Requirement already satisfied, skipping upgrade: importlib-metadata>=4.4; python_version < \"3.10\" in /home/jp/.local/lib/python3.8/site-packages (from markdown>=2.6.8->tensorboard<2.9,>=2.8->tensorflow) (4.11.3)\n",
      "Requirement already satisfied, skipping upgrade: pyasn1>=0.1.3 in /home/jp/.local/lib/python3.8/site-packages (from rsa<5,>=3.1.4; python_version >= \"3.6\"->google-auth<3,>=1.6.3->tensorboard<2.9,>=2.8->tensorflow) (0.4.8)\n",
      "Requirement already satisfied, skipping upgrade: oauthlib>=3.0.0 in /usr/lib/python3/dist-packages (from requests-oauthlib>=0.7.0->google-auth-oauthlib<0.5,>=0.4.1->tensorboard<2.9,>=2.8->tensorflow) (3.1.0)\n",
      "Requirement already satisfied, skipping upgrade: zipp>=0.5 in /home/jp/.local/lib/python3.8/site-packages (from importlib-metadata>=4.4; python_version < \"3.10\"->markdown>=2.6.8->tensorboard<2.9,>=2.8->tensorflow) (3.8.0)\n",
      "Requirement already satisfied: matplotlib in /home/jp/.local/lib/python3.8/site-packages (3.5.1)\n",
      "Requirement already satisfied: numpy>=1.17 in /home/jp/.local/lib/python3.8/site-packages (from matplotlib) (1.22.3)\n",
      "Requirement already satisfied: cycler>=0.10 in /home/jp/.local/lib/python3.8/site-packages (from matplotlib) (0.11.0)\n",
      "Requirement already satisfied: python-dateutil>=2.7 in /usr/local/lib/python3.8/dist-packages (from matplotlib) (2.8.2)\n",
      "Requirement already satisfied: fonttools>=4.22.0 in /home/jp/.local/lib/python3.8/site-packages (from matplotlib) (4.32.0)\n",
      "Requirement already satisfied: pillow>=6.2.0 in /usr/lib/python3/dist-packages (from matplotlib) (7.0.0)\n",
      "Requirement already satisfied: pyparsing>=2.2.1 in /home/jp/.local/lib/python3.8/site-packages (from matplotlib) (2.4.7)\n",
      "Requirement already satisfied: kiwisolver>=1.0.1 in /home/jp/.local/lib/python3.8/site-packages (from matplotlib) (1.4.2)\n",
      "Requirement already satisfied: packaging>=20.0 in /home/jp/.local/lib/python3.8/site-packages (from matplotlib) (20.9)\n",
      "Requirement already satisfied: six>=1.5 in /usr/lib/python3/dist-packages (from python-dateutil>=2.7->matplotlib) (1.14.0)\n",
      "Collecting scikit-learn\n",
      "  Downloading scikit_learn-1.0.2-cp38-cp38-manylinux_2_17_x86_64.manylinux2014_x86_64.whl (26.7 MB)\n",
      "\u001b[K     |████████████████████████████████| 26.7 MB 14 kB/s  eta 0:00:01\n",
      "\u001b[?25hCollecting joblib>=0.11\n",
      "  Downloading joblib-1.1.0-py2.py3-none-any.whl (306 kB)\n",
      "\u001b[K     |████████████████████████████████| 306 kB 21.7 MB/s eta 0:00:01\n",
      "\u001b[?25hRequirement already satisfied, skipping upgrade: scipy>=1.1.0 in /home/jp/.local/lib/python3.8/site-packages (from scikit-learn) (1.8.0)\n",
      "Collecting threadpoolctl>=2.0.0\n",
      "  Downloading threadpoolctl-3.1.0-py3-none-any.whl (14 kB)\n",
      "Requirement already satisfied, skipping upgrade: numpy>=1.14.6 in /home/jp/.local/lib/python3.8/site-packages (from scikit-learn) (1.22.3)\n",
      "Installing collected packages: joblib, threadpoolctl, scikit-learn\n",
      "Successfully installed joblib-1.1.0 scikit-learn-1.0.2 threadpoolctl-3.1.0\n"
     ]
    }
   ],
   "source": [
    "!pip install qiskit\n",
    "!pip install pennylane --upgrade\n",
    "!pip install --upgrade tensorflow\n",
    "!pip install matplotlib\n",
    "!pip install -U scikit-learn"
   ]
  },
  {
   "cell_type": "code",
   "execution_count": 1,
   "metadata": {},
   "outputs": [],
   "source": [
    "from qiskit import *\n",
    "from qiskit.quantum_info.operators import Operator\n",
    "from qiskit.visualization import plot_histogram\n",
    "from qiskit.algorithms.optimizers import SPSA\n",
    "import pennylane as qml\n",
    "from pennylane import numpy as np\n",
    "from pennylane.templates import RandomLayers\n",
    "import tensorflow as tf\n",
    "from tensorflow import keras\n",
    "import matplotlib.pyplot as plt\n",
    "from sklearn.linear_model import Perceptron\n",
    "from sklearn.metrics import roc_auc_score, accuracy_score\n",
    "\n",
    "import numpy as np"
   ]
  },
  {
   "cell_type": "markdown",
   "metadata": {},
   "source": [
    "## $U_i$"
   ]
  },
  {
   "cell_type": "code",
   "execution_count": 2,
   "metadata": {},
   "outputs": [],
   "source": [
    "def Ui(theta:[float]):\n",
    "\n",
    "    numQubits = int(np.log2(len(theta)))\n",
    "\n",
    "    register = QuantumRegister(numQubits)\n",
    "\n",
    "    circuito = QuantumCircuit(register, name = \"U(i)\")\n",
    "\n",
    "    circuito.h(range(numQubits))\n",
    "\n",
    "    thetaTil = list(map(lambda x: x-theta[0], theta[1:]))\n",
    "\n",
    "    for i in range(len(thetaTil)):\n",
    "\n",
    "        num = bin(i+1)[2:].zfill(numQubits)\n",
    "\n",
    "        count=0 # essa variavel vai guardar em que posicao na string estamos\n",
    "\n",
    "        for j in num: # iterando pelos caracteres de num\n",
    "\n",
    "            if(j=='0'):\n",
    "\n",
    "                circuito.x(count)\n",
    "\n",
    "            count+=1\n",
    "\n",
    "        circuito.mcp(thetaTil[i], list(range(len(num)-1)), len(num)-1)\n",
    "\n",
    "        count=0 # essa variavel vai guardar em que posicao na string estamos\n",
    "\n",
    "        for j in num: # iterando pelos caracteres de num\n",
    "\n",
    "            if(j=='0'):\n",
    "\n",
    "                circuito.x(count) # desfazendo os nots\n",
    "\n",
    "            count+=1\n",
    "\n",
    "    return circuito.to_gate()"
   ]
  },
  {
   "cell_type": "code",
   "execution_count": 3,
   "metadata": {},
   "outputs": [
    {
     "data": {
      "text/html": [
       "<pre style=\"word-wrap: normal;white-space: pre;background: #fff0;line-height: 1.1;font-family: &quot;Courier New&quot;,Courier,monospace\">      ┌───┐┌───┐       ┌───┐                   \n",
       "qr_0: ┤ H ├┤ X ├─■─────┤ X ├─■───────────■─────\n",
       "      ├───┤└───┘ │P(2) ├───┤ │P(3) ┌───┐ │P(1) \n",
       "qr_1: ┤ H ├──────■─────┤ X ├─■─────┤ X ├─■─────\n",
       "      └───┘            └───┘       └───┘       </pre>"
      ],
      "text/plain": [
       "      ┌───┐┌───┐       ┌───┐                   \n",
       "qr_0: ┤ H ├┤ X ├─■─────┤ X ├─■───────────■─────\n",
       "      ├───┤└───┘ │P(2) ├───┤ │P(3) ┌───┐ │P(1) \n",
       "qr_1: ┤ H ├──────■─────┤ X ├─■─────┤ X ├─■─────\n",
       "      └───┘            └───┘       └───┘       "
      ]
     },
     "execution_count": 3,
     "metadata": {},
     "output_type": "execute_result"
    }
   ],
   "source": [
    "thetaEx = [10, 12, 13, 11]\n",
    "\n",
    "register1 = QuantumRegister(2, name='qr')\n",
    "\n",
    "circuito = QuantumCircuit(register1)\n",
    "circuito.append(Ui(thetaEx), [0,1])\n",
    "\n",
    "circuito.decompose().draw()"
   ]
  },
  {
   "cell_type": "markdown",
   "metadata": {},
   "source": [
    "## $U_w$"
   ]
  },
  {
   "cell_type": "code",
   "execution_count": 4,
   "metadata": {},
   "outputs": [],
   "source": [
    "def Uw(phi:[float]):\n",
    "\n",
    "    numQubits = int(np.log2(len(phi)))\n",
    "\n",
    "    register = QuantumRegister(numQubits)\n",
    "\n",
    "    circuito = QuantumCircuit(register, name = \"U(w)\")   \n",
    "\n",
    "    phiTil = list(map(lambda x: (x-phi[0])*(-1), phi[1:])) # Phase(lambda)^daga == Phase(-lambda)\n",
    "\n",
    "    for i in range(len(phiTil)):\n",
    "\n",
    "        num = bin(i+1)[2:].zfill(numQubits)\n",
    "\n",
    "        count=0 # essa variavel vai guardar em que posicao na string estamos\n",
    "\n",
    "        for j in num: # iterando pelos caracteres de num\n",
    "\n",
    "            if(j=='0'):\n",
    "\n",
    "                circuito.x(count)\n",
    "\n",
    "            count+=1\n",
    "\n",
    "        circuito.mcp(phiTil[i], list(range(len(num)-1)), len(num)-1)\n",
    "\n",
    "        count=0 # essa variavel vai guardar em que posicao na string estamos\n",
    "\n",
    "        for j in num: # iterando pelos caracteres de num\n",
    "\n",
    "            if(j=='0'):\n",
    "\n",
    "                circuito.x(count) # desfazendo os nots\n",
    "\n",
    "            count+=1\n",
    "\n",
    "    circuito.h(range(numQubits))\n",
    "\n",
    "    circuito.x(range(numQubits))\n",
    "\n",
    "    return circuito.to_gate()"
   ]
  },
  {
   "cell_type": "code",
   "execution_count": 5,
   "metadata": {},
   "outputs": [
    {
     "data": {
      "text/html": [
       "<pre style=\"word-wrap: normal;white-space: pre;background: #fff0;line-height: 1.1;font-family: &quot;Courier New&quot;,Courier,monospace\">      ┌───┐        ┌───┐                     ┌───┐┌───┐\n",
       "qr_0: ┤ X ├─■──────┤ X ├─■────────────■──────┤ H ├┤ X ├\n",
       "      └───┘ │P(-2) ├───┤ │P(-3) ┌───┐ │P(-1) ├───┤├───┤\n",
       "qr_1: ──────■──────┤ X ├─■──────┤ X ├─■──────┤ H ├┤ X ├\n",
       "                   └───┘        └───┘        └───┘└───┘</pre>"
      ],
      "text/plain": [
       "      ┌───┐        ┌───┐                     ┌───┐┌───┐\n",
       "qr_0: ┤ X ├─■──────┤ X ├─■────────────■──────┤ H ├┤ X ├\n",
       "      └───┘ │P(-2) ├───┤ │P(-3) ┌───┐ │P(-1) ├───┤├───┤\n",
       "qr_1: ──────■──────┤ X ├─■──────┤ X ├─■──────┤ H ├┤ X ├\n",
       "                   └───┘        └───┘        └───┘└───┘"
      ]
     },
     "execution_count": 5,
     "metadata": {},
     "output_type": "execute_result"
    }
   ],
   "source": [
    "phiEx = [10, 12, 13, 11]\n",
    "\n",
    "register1 = QuantumRegister(2, name='qr')\n",
    "\n",
    "circuito = QuantumCircuit(register1)\n",
    "circuito.append(Uw(phiEx), [0,1])\n",
    "\n",
    "circuito.decompose().draw()"
   ]
  },
  {
   "cell_type": "markdown",
   "metadata": {},
   "source": [
    "## Teste"
   ]
  },
  {
   "cell_type": "code",
   "execution_count": 6,
   "metadata": {},
   "outputs": [
    {
     "data": {
      "text/html": [
       "<pre style=\"word-wrap: normal;white-space: pre;background: #fff0;line-height: 1.1;font-family: &quot;Courier New&quot;,Courier,monospace\">        ┌───────┐ ░ ┌───────┐ ░         \n",
       "  q2_0: ┤0      ├─░─┤0      ├─░───■─────\n",
       "        │  U(i) │ ░ │  U(w) │ ░   │     \n",
       "  q2_1: ┤1      ├─░─┤1      ├─░───■─────\n",
       "        └───────┘ ░ └───────┘ ░ ┌─┴─┐┌─┐\n",
       "output: ──────────░───────────░─┤ X ├┤M├\n",
       "                  ░           ░ └───┘└╥┘\n",
       "  c0: 1/══════════════════════════════╩═\n",
       "                                      0 </pre>"
      ],
      "text/plain": [
       "        ┌───────┐ ░ ┌───────┐ ░         \n",
       "  q2_0: ┤0      ├─░─┤0      ├─░───■─────\n",
       "        │  U(i) │ ░ │  U(w) │ ░   │     \n",
       "  q2_1: ┤1      ├─░─┤1      ├─░───■─────\n",
       "        └───────┘ ░ └───────┘ ░ ┌─┴─┐┌─┐\n",
       "output: ──────────░───────────░─┤ X ├┤M├\n",
       "                  ░           ░ └───┘└╥┘\n",
       "  c0: 1/══════════════════════════════╩═\n",
       "                                      0 "
      ]
     },
     "execution_count": 6,
     "metadata": {},
     "output_type": "execute_result"
    }
   ],
   "source": [
    "register = QuantumRegister(2)\n",
    "\n",
    "register2 = QuantumRegister(1, name='output')\n",
    "\n",
    "classicalBit = ClassicalRegister(1)\n",
    "\n",
    "circuito = QuantumCircuit(register, register2, classicalBit)\n",
    "\n",
    "thetaEx = [np.pi/6, np.pi/4, np.pi/2, np.pi]\n",
    "phiEx = [0, np.pi/2, np.pi/4, np.pi/6]\n",
    "\n",
    "circuito.append(Ui(thetaEx), [0,1])\n",
    "circuito.barrier()\n",
    "circuito.append(Uw(phiEx), [0,1])\n",
    "circuito.barrier()\n",
    "\n",
    "circuito.mcx([0,1], 2)\n",
    "\n",
    "circuito.measure(2,0)\n",
    "\n",
    "circuito.draw()"
   ]
  },
  {
   "cell_type": "code",
   "execution_count": 7,
   "metadata": {},
   "outputs": [
    {
     "data": {
      "image/png": "[encoded data removed]",
      "text/plain": [
       "<Figure size 504x360 with 1 Axes>"
      ]
     },
     "execution_count": 7,
     "metadata": {},
     "output_type": "execute_result"
    }
   ],
   "source": [
    "sim = Aer.get_backend('aer_simulator')  # Tell Qiskit how to simulate our circuit\n",
    "\n",
    "qobj = assemble(circuito.decompose())     # Create a Qobj from the circuit for the simulator to run\n",
    "counts = sim.run(qobj).result().get_counts()\n",
    "plot_histogram(counts)"
   ]
  },
  {
   "cell_type": "code",
   "execution_count": 333,
   "metadata": {},
   "outputs": [],
   "source": [
    "n_epochs = 30   # Number of optimization epochs\n",
    "n_train = 50    # Size of the train dataset\n",
    "n_test = 30\n",
    "n_batch = 5     # Size of the test dataset\n",
    "threshold = 0.85\n",
    "spsa = SPSA(maxiter=20,blocking= True)"
   ]
  },
  {
   "cell_type": "markdown",
   "metadata": {},
   "source": [
    "### Pre processamento"
   ]
  },
  {
   "cell_type": "code",
   "execution_count": 439,
   "metadata": {},
   "outputs": [],
   "source": [
    "mnist_dataset = keras.datasets.mnist\n",
    "(X_train, Y_train), (X_test, Y_test) = mnist_dataset.load_data()\n",
    "\n",
    "train_mask = np.isin(Y_train, [0,1])\n",
    "test_mask = np.isin(Y_test, [0,1])\n",
    "\n",
    "X_train, Y_train = X_train[train_mask], np.array(Y_train[train_mask] == 1)\n",
    "X_test, Y_test = X_test[test_mask], np.array(Y_test[test_mask] == 1)\n"
   ]
  },
  {
   "cell_type": "code",
   "execution_count": 438,
   "metadata": {},
   "outputs": [
    {
     "name": "stdout",
     "output_type": "stream",
     "text": [
      "[7 2 1 ... 4 5 6]\n"
     ]
    }
   ],
   "source": [
    "print(Y_test)"
   ]
  },
  {
   "cell_type": "markdown",
   "metadata": {},
   "source": [
    "### Diminuindo o tamanho das amostras"
   ]
  },
  {
   "cell_type": "code",
   "execution_count": 440,
   "metadata": {},
   "outputs": [],
   "source": [
    "weightImageOne = X_test[51] #number one 51\n",
    "\n",
    "X_train = X_train[:n_train]\n",
    "Y_train = Y_train[:n_train]\n",
    "\n",
    "X_test = X_test[:n_test]\n",
    "Y_test = Y_test[:n_test]"
   ]
  },
  {
   "cell_type": "markdown",
   "metadata": {},
   "source": [
    "### Normalizando as amostras entre zero e $\\pi$"
   ]
  },
  {
   "cell_type": "code",
   "execution_count": 441,
   "metadata": {},
   "outputs": [],
   "source": [
    "X_train = (X_train/255)*(np.pi/2)\n",
    "X_test= (X_test/255)*(np.pi/2)\n",
    "\n",
    "weightImageOne = (weightImageOne/255)*(np.pi/2)"
   ]
  },
  {
   "cell_type": "code",
   "execution_count": 276,
   "metadata": {},
   "outputs": [
    {
     "name": "stdout",
     "output_type": "stream",
     "text": [
      "False\n",
      "True\n",
      "True\n",
      "True\n",
      "True\n",
      "False\n",
      "True\n",
      "True\n",
      "False\n",
      "False\n",
      "True\n",
      "False\n",
      "False\n",
      "True\n",
      "False\n",
      "True\n",
      "False\n",
      "False\n",
      "True\n",
      "True\n",
      "False\n",
      "True\n",
      "True\n",
      "False\n",
      "False\n",
      "False\n",
      "True\n",
      "True\n",
      "True\n",
      "True\n",
      "False\n",
      "True\n",
      "True\n",
      "False\n",
      "False\n",
      "False\n",
      "False\n",
      "True\n",
      "True\n",
      "True\n",
      "True\n",
      "False\n",
      "False\n",
      "True\n",
      "True\n",
      "True\n",
      "False\n",
      "True\n",
      "True\n",
      "True\n"
     ]
    }
   ],
   "source": [
    "for i in Y_train:\n",
    "    print(i)"
   ]
  },
  {
   "cell_type": "code",
   "execution_count": 442,
   "metadata": {},
   "outputs": [
    {
     "data": {
      "image/png": "[encoded data removed]",
      "text/plain": [
       "<Figure size 432x288 with 1 Axes>"
      ]
     },
     "metadata": {
      "needs_background": "light"
     },
     "output_type": "display_data"
    }
   ],
   "source": [
    "X_train = np.expand_dims(X_train, axis=-1)\n",
    "X_train = tf.image.resize(X_train, [32,32])\n",
    "\n",
    "X_test = np.expand_dims(X_test, axis=-1)\n",
    "X_test = tf.image.resize(X_test, [32,32])\n",
    "\n",
    "weightImageOne = np.expand_dims(weightImageOne, axis=-1)\n",
    "weightImageOne = tf.image.resize(weightImageOne, [32,32])\n",
    "plt.imshow(X_train[0], cmap= \"gray\")\n",
    "plt.show()"
   ]
  },
  {
   "cell_type": "code",
   "execution_count": 444,
   "metadata": {},
   "outputs": [
    {
     "data": {
      "image/png": "[encoded data removed]",
      "text/plain": [
       "<Figure size 432x288 with 1 Axes>"
      ]
     },
     "metadata": {
      "needs_background": "light"
     },
     "output_type": "display_data"
    },
    {
     "name": "stdout",
     "output_type": "stream",
     "text": [
      "False\n"
     ]
    }
   ],
   "source": [
    "plt.imshow(X_train[3], cmap= \"gray\")\n",
    "plt.show()\n",
    "print(Y_train[0])"
   ]
  },
  {
   "cell_type": "markdown",
   "metadata": {},
   "source": [
    "### Transformando imagem em lista de array"
   ]
  },
  {
   "cell_type": "code",
   "execution_count": 2,
   "metadata": {},
   "outputs": [],
   "source": [
    "def transformImageInArray(image):\n",
    "    imageArray = []\n",
    "    for i in range(32):\n",
    "        for j in range(32):\n",
    "            imageArray.append(float(image[i][j]))\n",
    "    return imageArray"
   ]
  },
  {
   "cell_type": "markdown",
   "metadata": {},
   "source": [
    "### Criando Circuito"
   ]
  },
  {
   "cell_type": "code",
   "execution_count": 267,
   "metadata": {},
   "outputs": [],
   "source": [
    "def createCircuit(imageArray, weightArray):\n",
    "    numQbits = int(np.log2(len(weightArray)))\n",
    "\n",
    "    register = QuantumRegister(numQbits)\n",
    "    output = QuantumRegister(1, name='output')\n",
    "    classicalBit = ClassicalRegister(1)\n",
    "\n",
    "    circuit = QuantumCircuit(register, output, classicalBit)\n",
    "\n",
    "    circuit.append(Ui(imageArray), [0,1,2,3,4,5,6,7,8,9])\n",
    "    circuit.barrier()\n",
    "    circuit.append(Uw(weightArray), [0,1,2,3,4,5,6,7,8,9])\n",
    "    circuit.mcx([0,1,2,3,4,5,6,7,8,9], 10)\n",
    "    circuit.measure(10,0)\n",
    "    return circuit"
   ]
  },
  {
   "cell_type": "markdown",
   "metadata": {},
   "source": [
    "### Funçoes auxiliares"
   ]
  },
  {
   "cell_type": "code",
   "execution_count": 202,
   "metadata": {},
   "outputs": [],
   "source": [
    "def getlost(ytil, y):\n",
    "    return (y - ytil)**2"
   ]
  },
  {
   "cell_type": "code",
   "execution_count": 271,
   "metadata": {},
   "outputs": [],
   "source": [
    "def loss(weight):\n",
    "\n",
    "    circuit = createCircuit(transformImageInArray(imagem), weight)\n",
    "    sim = Aer.get_backend('aer_simulator')  # Tell Qiskit how to simulate our circuit\n",
    "    qobj = assemble(circuit.decompose())     # Create a Qobj from the circuit for the simulator to run\n",
    "    counts = sim.run(qobj).result().get_counts()\n",
    "    print(\"Keys: \"+str(counts.keys()))\n",
    "    print(counts)\n",
    "    try:\n",
    "        if(counts['1']/1024 > threshold): ytil = 1 \n",
    "        else: ytil = 0\n",
    "    except:\n",
    "        ytil = 0\n",
    "    return getlost(ytil, imagemLabel)"
   ]
  },
  {
   "cell_type": "code",
   "execution_count": 334,
   "metadata": {},
   "outputs": [
    {
     "data": {
      "image/png": "[encoded data removed]",
      "text/plain": [
       "<Figure size 504x360 with 1 Axes>"
      ]
     },
     "execution_count": 334,
     "metadata": {},
     "output_type": "execute_result"
    }
   ],
   "source": [
    "circuit = createCircuit(transformImageInArray(X_train[8]), weightArray)\n",
    "sim = Aer.get_backend('aer_simulator')  # Tell Qiskit how to simulate our circuit\n",
    "qobj = assemble(circuit.decompose())     # Create a Qobj from the circuit for the simulator to run\n",
    "counts = sim.run(qobj).result().get_counts()\n",
    "plot_histogram(counts)\n"
   ]
  },
  {
   "cell_type": "code",
   "execution_count": null,
   "metadata": {},
   "outputs": [],
   "source": [
    "imagem = X_train[4]\n",
    "imagemLabel = Y_train[4]\n",
    "weightArray = transformImageInArray(weightImageOne)\n",
    "for i in range(50):\n",
    "    imagem = X_train[i]\n",
    "    imagemLabel = Y_train[i]\n",
    "    weightArray = spsa.optimize(num_vars = 1024, variable_bounds= list((0, np.pi/2) for i in range (1024)), objective_function = loss ,initial_point=weightArray)[0]\n",
    "    \n"
   ]
  },
  {
   "cell_type": "markdown",
   "metadata": {},
   "source": [
    "## Train"
   ]
  },
  {
   "cell_type": "code",
   "execution_count": 355,
   "metadata": {},
   "outputs": [
    {
     "name": "stdout",
     "output_type": "stream",
     "text": [
      "1.0\n",
      "erro 0: 00.0\n",
      "erro 1: 00.0\n"
     ]
    }
   ],
   "source": [
    "count = 0\n",
    "count0 = 0\n",
    "count1 = 0\n",
    "for i in range(30):\n",
    "    circuit = createCircuit(transformImageInArray(X_test[i]), weightArray)\n",
    "    sim = Aer.get_backend('aer_simulator')  # Tell Qiskit how to simulate our circuit\n",
    "    qobj = assemble(circuit.decompose())     # Create a Qobj from the circuit for the simulator to run\n",
    "    counts = sim.run(qobj).result().get_counts()\n",
    "    if (counts['1']/1024 > threshold):\n",
    "        result = 1\n",
    "    else:\n",
    "        result = 0\n",
    "    #print(\"Result: \"+str(result)+ \" Label: \"+str(Y_test[i]))\n",
    "    if result == Y_test[i]:\n",
    "        count += 1\n",
    "    else:\n",
    "        if result == 0:\n",
    "            count0 += 1\n",
    "        else:\n",
    "            count1 += 1\n",
    "    \n",
    "print(count/30)\n",
    "print(\"erro 0: \"+str(count0) + str(count0/30))\n",
    "print(\"erro 1: \"+str(count1) + str(count1/30))"
   ]
  },
  {
   "cell_type": "markdown",
   "metadata": {},
   "source": [
    "## Perceptron Clássico"
   ]
  },
  {
   "cell_type": "code",
   "execution_count": 25,
   "metadata": {},
   "outputs": [],
   "source": [
    "mnist_dataset = keras.datasets.mnist\n",
    "(X_train, Y_train), (X_test, Y_test) = mnist_dataset.load_data()\n",
    "\n",
    "train_mask = np.isin(Y_train, [0,1])\n",
    "test_mask = np.isin(Y_test, [0,1])\n",
    "\n",
    "X_train, Y_train = X_train[train_mask], np.array(Y_train[train_mask] == 1)\n",
    "X_test, Y_test = X_test[test_mask], np.array(Y_test[test_mask] == 1)"
   ]
  },
  {
   "cell_type": "code",
   "execution_count": 26,
   "metadata": {},
   "outputs": [],
   "source": [
    "weightImageOne = X_test[51] #number one 51\n",
    "\n",
    "X_train, X_val = X_train[:n_train], X_train[n_train:]\n",
    "Y_train, Y_val = Y_train[:n_train], Y_train[n_train:]\n",
    "\n",
    "X_test = X_test[:n_test]\n",
    "Y_test = Y_test[:n_test]"
   ]
  },
  {
   "cell_type": "code",
   "execution_count": 27,
   "metadata": {},
   "outputs": [],
   "source": [
    "X_train = X_train/255\n",
    "X_test= X_test/255\n",
    "\n",
    "weightImageOne = weightImageOne/255"
   ]
  },
  {
   "cell_type": "code",
   "execution_count": 28,
   "metadata": {},
   "outputs": [],
   "source": [
    "from sklearn.preprocessing import LabelBinarizer\n",
    "X_train = X_train.reshape([X_train.shape[0], -1])\n",
    "X_val = X_val.reshape([X_val.shape[0], -1])\n",
    "X_test = X_test.reshape([X_test.shape[0], -1])\n",
    "lb = LabelBinarizer()\n",
    "Y_train = lb.fit_transform(Y_train)\n",
    "Y_test = lb.transform(Y_test)"
   ]
  },
  {
   "cell_type": "code",
   "execution_count": 562,
   "metadata": {},
   "outputs": [
    {
     "name": "stdout",
     "output_type": "stream",
     "text": [
      "Mean Accuracy: 0.993 (0.036)\n"
     ]
    }
   ],
   "source": [
    "from numpy import mean\n",
    "from numpy import std\n",
    "from sklearn.datasets import make_classification\n",
    "from sklearn.model_selection import cross_val_score\n",
    "from sklearn.model_selection import RepeatedStratifiedKFold\n",
    "from sklearn.linear_model import Perceptron\n",
    "model = Perceptron()\n",
    "cv = RepeatedStratifiedKFold(n_splits=10, n_repeats=3, random_state=1)\n",
    "scores = cross_val_score(model, X_train, Y_train, scoring='accuracy', cv=cv, n_jobs=-1)\n",
    "# summarize result\n",
    "print('Mean Accuracy: %.3f (%.3f)' % (mean(scores), std(scores)))\n",
    "countClassic = (mean(scores))"
   ]
  },
  {
   "cell_type": "markdown",
   "metadata": {},
   "source": [
    "## Redes Neurais"
   ]
  },
  {
   "cell_type": "markdown",
   "metadata": {},
   "source": [
    "### Rede Neural 1"
   ]
  },
  {
   "cell_type": "code",
   "execution_count": 107,
   "metadata": {},
   "outputs": [],
   "source": [
    "n_train = 50\n",
    "n_test = 30"
   ]
  },
  {
   "cell_type": "code",
   "execution_count": 108,
   "metadata": {},
   "outputs": [],
   "source": [
    "mnist_dataset = keras.datasets.mnist\n",
    "(X_train, Y_train), (X_test, Y_test) = mnist_dataset.load_data()\n",
    "\n",
    "train_mask = np.isin(Y_train, [0,1])\n",
    "test_mask = np.isin(Y_test, [0,1])\n",
    "\n",
    "X_train, Y_train = X_train[train_mask], np.array(Y_train[train_mask] == 1)\n",
    "X_test, Y_test = X_test[test_mask], np.array(Y_test[test_mask] == 1)\n"
   ]
  },
  {
   "cell_type": "code",
   "execution_count": 109,
   "metadata": {},
   "outputs": [],
   "source": [
    "X_train, X_val = X_train[:n_train], X_train[n_train:]\n",
    "Y_train, Y_val = Y_train[:n_train], Y_train[n_train:]\n",
    "\n",
    "X_test = X_test[:n_test]\n",
    "Y_test = Y_test[:n_test]"
   ]
  },
  {
   "cell_type": "code",
   "execution_count": 110,
   "metadata": {},
   "outputs": [],
   "source": [
    "X_train = X_train/255\n",
    "X_test= X_test/255"
   ]
  },
  {
   "cell_type": "code",
   "execution_count": 111,
   "metadata": {},
   "outputs": [],
   "source": [
    "model = keras.Sequential([\n",
    "    keras.layers.Flatten(input_shape=(28, 28)),\n",
    "    keras.layers.Dense(128, activation='relu'),\n",
    "    keras.layers.Dense(10, activation='softmax')\n",
    "])"
   ]
  },
  {
   "cell_type": "code",
   "execution_count": 112,
   "metadata": {},
   "outputs": [],
   "source": [
    "model.compile(optimizer='adam',\n",
    "              loss='sparse_categorical_crossentropy',\n",
    "              metrics=['accuracy'])"
   ]
  },
  {
   "cell_type": "code",
   "execution_count": 113,
   "metadata": {},
   "outputs": [
    {
     "name": "stdout",
     "output_type": "stream",
     "text": [
      "Epoch 1/10\n",
      "2/2 [==============================] - 0s 4ms/step - loss: 2.2328 - accuracy: 0.0600\n",
      "Epoch 2/10\n",
      "2/2 [==============================] - 0s 3ms/step - loss: 1.3243 - accuracy: 0.8200\n",
      "Epoch 3/10\n",
      "2/2 [==============================] - 0s 2ms/step - loss: 0.7231 - accuracy: 1.0000\n",
      "Epoch 4/10\n",
      "2/2 [==============================] - 0s 3ms/step - loss: 0.4015 - accuracy: 1.0000\n",
      "Epoch 5/10\n",
      "2/2 [==============================] - 0s 5ms/step - loss: 0.2162 - accuracy: 1.0000\n",
      "Epoch 6/10\n",
      "2/2 [==============================] - 0s 4ms/step - loss: 0.1194 - accuracy: 1.0000\n",
      "Epoch 7/10\n",
      "2/2 [==============================] - 0s 5ms/step - loss: 0.0702 - accuracy: 1.0000\n",
      "Epoch 8/10\n",
      "2/2 [==============================] - 0s 5ms/step - loss: 0.0433 - accuracy: 1.0000\n",
      "Epoch 9/10\n",
      "2/2 [==============================] - 0s 4ms/step - loss: 0.0276 - accuracy: 1.0000\n",
      "Epoch 10/10\n",
      "2/2 [==============================] - 0s 4ms/step - loss: 0.0183 - accuracy: 1.0000\n"
     ]
    },
    {
     "data": {
      "text/plain": [
       "<keras.callbacks.History at 0x7fde66e41fa0>"
      ]
     },
     "execution_count": 113,
     "metadata": {},
     "output_type": "execute_result"
    }
   ],
   "source": [
    "model.fit(X_train, Y_train, epochs=10)"
   ]
  },
  {
   "cell_type": "code",
   "execution_count": 114,
   "metadata": {},
   "outputs": [
    {
     "name": "stdout",
     "output_type": "stream",
     "text": [
      "1/1 - 0s - loss: 0.0278 - accuracy: 1.0000 - 122ms/epoch - 122ms/step\n"
     ]
    }
   ],
   "source": [
    "test_loss, test_acc = model.evaluate(X_test,  Y_test, verbose=2)\n",
    "countRn1 = test_acc"
   ]
  },
  {
   "cell_type": "code",
   "execution_count": 20,
   "metadata": {},
   "outputs": [],
   "source": [
    "predictions = model.predict(X_test)"
   ]
  },
  {
   "cell_type": "code",
   "execution_count": 21,
   "metadata": {},
   "outputs": [
    {
     "data": {
      "text/plain": [
       "array([0.04263221, 0.8977124 , 0.01071811, 0.00731495, 0.00328268,\n",
       "       0.00531626, 0.00676763, 0.00918508, 0.00966574, 0.00740501],\n",
       "      dtype=float32)"
      ]
     },
     "execution_count": 21,
     "metadata": {},
     "output_type": "execute_result"
    }
   ],
   "source": [
    "predictions[0]"
   ]
  },
  {
   "cell_type": "code",
   "execution_count": 51,
   "metadata": {},
   "outputs": [],
   "source": [
    "def plot_image(i, predictions_array, true_label, img):\n",
    "  predictions_array, true_label, img = predictions_array[i], true_label[i], img[i]\n",
    "  plt.grid(False)\n",
    "  plt.xticks([])\n",
    "  plt.yticks([])\n",
    "\n",
    "  plt.imshow(img, cmap=plt.cm.binary)\n",
    "\n",
    "  predicted_label = np.argmax(predictions_array)\n",
    "  if predicted_label == true_label:\n",
    "    color = 'blue'\n",
    "  else:\n",
    "    color = 'red'\n",
    "\n",
    "def plot_value_array(i, predictions_array, true_label):\n",
    "  predictions_array, true_label = predictions_array[i], true_label[i]\n",
    "  plt.grid(False)\n",
    "  plt.xticks([])\n",
    "  plt.yticks([])\n",
    "  thisplot = plt.bar(range(10), predictions_array, color=\"#777777\")\n",
    "  plt.ylim([0, 1])\n",
    "  predicted_label = np.argmax(predictions_array)\n",
    "\n",
    "  thisplot[predicted_label].set_color('red')\n",
    "  thisplot[true_label].set_color('blue')"
   ]
  },
  {
   "cell_type": "code",
   "execution_count": 52,
   "metadata": {},
   "outputs": [
    {
     "name": "stderr",
     "output_type": "stream",
     "text": [
      "<ipython-input-51-8a8f4d122335>:25: DeprecationWarning: In future, it will be an error for 'np.bool_' scalars to be interpreted as an index\n",
      "  thisplot[true_label].set_color('blue')\n"
     ]
    },
    {
     "data": {
      "image/png": "[encoded data removed]",
      "text/plain": [
       "<Figure size 432x216 with 2 Axes>"
      ]
     },
     "metadata": {},
     "output_type": "display_data"
    }
   ],
   "source": [
    "i = 0\n",
    "plt.figure(figsize=(6,3))\n",
    "plt.subplot(1,2,1)\n",
    "plot_image(i, predictions, Y_test, X_test)\n",
    "plt.subplot(1,2,2)\n",
    "plot_value_array(i, predictions,  Y_test)\n",
    "plt.show()"
   ]
  },
  {
   "cell_type": "code",
   "execution_count": 53,
   "metadata": {},
   "outputs": [
    {
     "name": "stderr",
     "output_type": "stream",
     "text": [
      "<ipython-input-51-8a8f4d122335>:25: DeprecationWarning: In future, it will be an error for 'np.bool_' scalars to be interpreted as an index\n",
      "  thisplot[true_label].set_color('blue')\n"
     ]
    },
    {
     "data": {
      "image/png": "[encoded data removed]",
      "text/plain": [
       "<Figure size 864x720 with 30 Axes>"
      ]
     },
     "metadata": {},
     "output_type": "display_data"
    }
   ],
   "source": [
    "num_rows = 5\n",
    "num_cols = 3\n",
    "num_images = num_rows*num_cols\n",
    "plt.figure(figsize=(2*2*num_cols, 2*num_rows))\n",
    "for i in range(num_images):\n",
    "  plt.subplot(num_rows, 2*num_cols, 2*i+1)\n",
    "  plot_image(i, predictions, Y_test, X_test)\n",
    "  plt.subplot(num_rows, 2*num_cols, 2*i+2)\n",
    "  plot_value_array(i, predictions, Y_test)\n",
    "plt.show()"
   ]
  },
  {
   "cell_type": "markdown",
   "metadata": {},
   "source": [
    "### Rede Neural 2"
   ]
  },
  {
   "cell_type": "code",
   "execution_count": 82,
   "metadata": {},
   "outputs": [],
   "source": [
    "mnist_dataset = keras.datasets.mnist\n",
    "(X_train, Y_train), (X_test, Y_test) = mnist_dataset.load_data()\n",
    "\n",
    "train_mask = np.isin(Y_train, [0,1])\n",
    "test_mask = np.isin(Y_test, [0,1])\n",
    "\n",
    "X_train, Y_train = X_train[train_mask], np.array(Y_train[train_mask] == 1)\n",
    "X_test, Y_test = X_test[test_mask], np.array(Y_test[test_mask] == 1)"
   ]
  },
  {
   "cell_type": "code",
   "execution_count": 83,
   "metadata": {},
   "outputs": [],
   "source": [
    "X_train, X_val = X_train[:n_train], X_train[n_train:]\n",
    "Y_train, Y_val = Y_train[:n_train], Y_train[n_train:]\n",
    "\n",
    "X_test = X_test[:n_test]\n",
    "Y_test = Y_test[:n_test]"
   ]
  },
  {
   "cell_type": "code",
   "execution_count": 84,
   "metadata": {},
   "outputs": [],
   "source": [
    "X_train = X_train/255\n",
    "X_test= X_test/255"
   ]
  },
  {
   "cell_type": "code",
   "execution_count": 85,
   "metadata": {},
   "outputs": [],
   "source": [
    "from sklearn.preprocessing import LabelBinarizer\n",
    "X_train = X_train.reshape([X_train.shape[0], -1])\n",
    "X_val = X_val.reshape([X_val.shape[0], -1])\n",
    "X_test = X_test.reshape([X_test.shape[0], -1])\n",
    "lb = LabelBinarizer()\n",
    "Y_train = lb.fit_transform(Y_train)\n",
    "Y_test = lb.transform(Y_test)"
   ]
  },
  {
   "cell_type": "code",
   "execution_count": 62,
   "metadata": {},
   "outputs": [
    {
     "name": "stdout",
     "output_type": "stream",
     "text": [
      "Iteration 1, loss = 0.70507413\n",
      "Iteration 2, loss = 0.18022826\n",
      "Iteration 3, loss = 0.05555547\n",
      "Iteration 4, loss = 0.01891512\n",
      "Iteration 5, loss = 0.00696301\n",
      "Iteration 6, loss = 0.00279096\n",
      "Iteration 7, loss = 0.00123564\n",
      "Iteration 8, loss = 0.00061564\n",
      "Training set score: 1.000000\n",
      "Test set score: 1.000000\n"
     ]
    },
    {
     "name": "stderr",
     "output_type": "stream",
     "text": [
      "/home/jp/.local/lib/python3.8/site-packages/sklearn/neural_network/_multilayer_perceptron.py:1109: DataConversionWarning: A column-vector y was passed when a 1d array was expected. Please change the shape of y to (n_samples, ), for example using ravel().\n",
      "  y = column_or_1d(y, warn=True)\n"
     ]
    }
   ],
   "source": [
    "import warnings\n",
    "import matplotlib.pyplot as plt\n",
    "from sklearn.datasets import fetch_openml\n",
    "from sklearn.exceptions import ConvergenceWarning\n",
    "from sklearn.neural_network import MLPClassifier\n",
    "from sklearn.model_selection import train_test_split\n",
    "\n",
    "\n",
    "mlp = MLPClassifier(\n",
    "    hidden_layer_sizes=(40,),\n",
    "    max_iter=8,\n",
    "    alpha=1e-4,\n",
    "    activation= 'relu',\n",
    "    solver=\"sgd\",\n",
    "    verbose=10,\n",
    "    random_state=1,\n",
    "    learning_rate_init=0.2,\n",
    ")\n",
    "\n",
    "# this example won't converge because of resource usage constraints on\n",
    "# our Continuous Integration infrastructure, so we catch the warning and\n",
    "# ignore it here\n",
    "with warnings.catch_warnings():\n",
    "    warnings.filterwarnings(\"ignore\", category=ConvergenceWarning, module=\"sklearn\")\n",
    "    mlp.fit(X_train, Y_train)\n",
    "\n",
    "print(\"Training set score: %f\" % mlp.score(X_train, Y_train))\n",
    "print(\"Test set score: %f\" % mlp.score(X_test, Y_test))\n",
    "countRn2 = mlp.score(X_test, Y_test)"
   ]
  },
  {
   "cell_type": "markdown",
   "metadata": {},
   "source": [
    "### Rede Neural 3"
   ]
  },
  {
   "cell_type": "code",
   "execution_count": 90,
   "metadata": {},
   "outputs": [],
   "source": [
    "mnist_dataset = keras.datasets.mnist\n",
    "(X_train, Y_train), (X_test, Y_test) = mnist_dataset.load_data()\n",
    "\n",
    "train_mask = np.isin(Y_train, [0,1])\n",
    "test_mask = np.isin(Y_test, [0,1])\n",
    "\n",
    "X_train, Y_train = X_train[train_mask], np.array(Y_train[train_mask] == 1)\n",
    "X_test, Y_test = X_test[test_mask], np.array(Y_test[test_mask] == 1)"
   ]
  },
  {
   "cell_type": "code",
   "execution_count": 91,
   "metadata": {},
   "outputs": [],
   "source": [
    "X_train, X_val = X_train[:n_train], X_train[n_train:]\n",
    "Y_train, Y_val = Y_train[:n_train], Y_train[n_train:]\n",
    "\n",
    "X_test = X_test[:n_test]\n",
    "Y_test = Y_test[:n_test]"
   ]
  },
  {
   "cell_type": "code",
   "execution_count": 92,
   "metadata": {},
   "outputs": [],
   "source": [
    "X_train = X_train/255\n",
    "X_test= X_test/255"
   ]
  },
  {
   "cell_type": "code",
   "execution_count": 93,
   "metadata": {},
   "outputs": [],
   "source": [
    "from sklearn.preprocessing import LabelBinarizer\n",
    "X_train = X_train.reshape([X_train.shape[0], -1])\n",
    "X_val = X_val.reshape([X_val.shape[0], -1])\n",
    "X_test = X_test.reshape([X_test.shape[0], -1])\n",
    "lb = LabelBinarizer()\n",
    "Y_train = lb.fit_transform(Y_train)\n",
    "Y_test = lb.transform(Y_test)"
   ]
  },
  {
   "cell_type": "code",
   "execution_count": 103,
   "metadata": {},
   "outputs": [
    {
     "name": "stdout",
     "output_type": "stream",
     "text": [
      "Iteration 1, loss = 0.81841001\n",
      "Iteration 2, loss = 35.75197200\n",
      "Training set score: 0.940000\n",
      "Test set score: 0.966667\n"
     ]
    },
    {
     "name": "stderr",
     "output_type": "stream",
     "text": [
      "/home/jp/.local/lib/python3.8/site-packages/sklearn/neural_network/_multilayer_perceptron.py:1109: DataConversionWarning: A column-vector y was passed when a 1d array was expected. Please change the shape of y to (n_samples, ), for example using ravel().\n",
      "  y = column_or_1d(y, warn=True)\n"
     ]
    }
   ],
   "source": [
    "import warnings\n",
    "import matplotlib.pyplot as plt\n",
    "from sklearn.datasets import fetch_openml\n",
    "from sklearn.exceptions import ConvergenceWarning\n",
    "from sklearn.neural_network import MLPClassifier\n",
    "from sklearn.model_selection import train_test_split\n",
    "\n",
    "\n",
    "mlp = MLPClassifier(\n",
    "    hidden_layer_sizes=(10,),\n",
    "    max_iter=2,\n",
    "    alpha=1e-4,\n",
    "    activation= 'identity',\n",
    "    solver=\"adam\",\n",
    "    verbose=10,\n",
    "    random_state=1,\n",
    "    learning_rate='adaptive',\n",
    "    learning_rate_init=10,\n",
    ")\n",
    "\n",
    "# this example won't converge because of resource usage constraints on\n",
    "# our Continuous Integration infrastructure, so we catch the warning and\n",
    "# ignore it here\n",
    "with warnings.catch_warnings():\n",
    "    warnings.filterwarnings(\"ignore\", category=ConvergenceWarning, module=\"sklearn\")\n",
    "    mlp.fit(X_train, Y_train)\n",
    "\n",
    "print(\"Training set score: %f\" % mlp.score(X_train, Y_train))\n",
    "print(\"Test set score: %f\" % mlp.score(X_test, Y_test))\n",
    "countRn3 = mlp.score(X_test, Y_test)"
   ]
  },
  {
   "cell_type": "markdown",
   "metadata": {},
   "source": [
    "## Conclusão"
   ]
  },
  {
   "cell_type": "code",
   "execution_count": 123,
   "metadata": {},
   "outputs": [],
   "source": [
    "results = {'Quântico':count,'Classico':countClassic,'RN1': countRn1, 'RN2': countRn2, 'RN3': countRn3}"
   ]
  },
  {
   "cell_type": "code",
   "execution_count": 130,
   "metadata": {},
   "outputs": [
    {
     "data": {
      "image/png": "[encoded data removed]",
      "text/plain": [
       "<Figure size 432x288 with 1 Axes>"
      ]
     },
     "metadata": {
      "needs_background": "light"
     },
     "output_type": "display_data"
    }
   ],
   "source": [
    "p = plt.bar(results.keys(), results.values(), align='center')\n",
    "plt.xticks(rotation=45)\n",
    "plt.title('Comparativo de classificadores')\n",
    "plt.show()"
   ]
  },
  {
   "cell_type": "code",
   "execution_count": 135,
   "metadata": {},
   "outputs": [],
   "source": [
    "#test = open('bestWeight.txt', 'r')\n",
    "#testlist = test.readlines()\n",
    "#testlist = list(map(float, testlist))\n",
    "#print(testlist)"
   ]
  }
 ],
 "metadata": {
  "interpreter": {
   "hash": "06a6e9066bbeb53b5d1ce66b8de344dab574a4b2c668895e58457d7b51122ee9"
  },
  "kernelspec": {
   "display_name": "Python 3.8.10 64-bit (windows store)",
   "language": "python",
   "name": "python3"
  },
  "language_info": {
   "codemirror_mode": {
    "name": "ipython",
    "version": 3
   },
   "file_extension": ".py",
   "mimetype": "text/x-python",
   "name": "python",
   "nbconvert_exporter": "python",
   "pygments_lexer": "ipython3",
   "version": "3.8.10"
  },
  "orig_nbformat": 4
 },
 "nbformat": 4,
 "nbformat_minor": 2
}
