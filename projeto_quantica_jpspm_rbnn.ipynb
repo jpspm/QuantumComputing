{
 "cells": [
  {
   "cell_type": "markdown",
   "metadata": {},
   "source": [
    "To do:\n",
    "- perguntar sobre o anticontrol no primeiro R\n",
    "- perguntar sobre o theta til\n",
    "- perguntar sobre a quantidade de qubits e a quantidade de operacoes R\n",
    "- o que é Ancilla"
   ]
  },
  {
   "cell_type": "markdown",
   "metadata": {},
   "source": [
    "Anotações:\n",
    "- o Uw é só introduzir $(-1)*\\phi$ do mesmo jeito que foi introduzido o $\\theta$\n",
    "- normalmente o tamanho de theta é uma potência de 2\n",
    "- as portas $X$ são colocadas no cicuito de modo a aplicar a operação $R$ somente ao estado desejado (visto que a porta $R$, da maneira que implementamos, só é aplicada quando o estado atual é $|11>$)\n",
    "- Existe uma porta $P$ que faz o que implementamos como rzao\n",
    "- Lembrar de fazer o theta til em vez de só theta"
   ]
  },
  {
   "cell_type": "code",
   "execution_count": 54,
   "metadata": {},
   "outputs": [],
   "source": [
    "from qiskit import *\n",
    "from qiskit.quantum_info.operators import Operator\n",
    "from qiskit.visualization import plot_histogram\n",
    "import numpy as np"
   ]
  },
  {
   "cell_type": "markdown",
   "metadata": {},
   "source": [
    "## $U_i$"
   ]
  },
  {
   "cell_type": "code",
   "execution_count": 42,
   "metadata": {},
   "outputs": [],
   "source": [
    "def Ui(theta:[float]):\n",
    "\n",
    "    numQubits = int(np.log2(len(theta)))\n",
    "\n",
    "    register = QuantumRegister(numQubits)\n",
    "\n",
    "    circuito = QuantumCircuit(register)\n",
    "\n",
    "    circuito.h(range(numQubits))\n",
    "\n",
    "    thetaTil = list(map(lambda x: x-theta[0], theta[1:]))\n",
    "\n",
    "    for i in range(len(thetaTil)):\n",
    "\n",
    "        num = bin(i+1)[2:].zfill(numQubits)\n",
    "\n",
    "        count=0 # essa variavel vai guardar em que posicao na string estamos\n",
    "\n",
    "        for j in num: # iterando pelos caracteres de num\n",
    "\n",
    "            if(j=='0'):\n",
    "\n",
    "                circuito.x(count)\n",
    "\n",
    "            count+=1\n",
    "\n",
    "        circuito.mcp(thetaTil[i], list(range(len(num)-1)), len(num)-1)\n",
    "\n",
    "        count=0 # essa variavel vai guardar em que posicao na string estamos\n",
    "\n",
    "        for j in num: # iterando pelos caracteres de num\n",
    "\n",
    "            if(j=='0'):\n",
    "\n",
    "                circuito.x(count) # desfazendo os nots\n",
    "\n",
    "            count+=1\n",
    "\n",
    "    return circuito.to_gate()"
   ]
  },
  {
   "cell_type": "code",
   "execution_count": 43,
   "metadata": {},
   "outputs": [
    {
     "data": {
      "text/html": [
       "<pre style=\"word-wrap: normal;white-space: pre;background: #fff0;line-height: 1.1;font-family: &quot;Courier New&quot;,Courier,monospace\">      ┌───┐┌───┐       ┌───┐                   \n",
       "qr_0: ┤ H ├┤ X ├─■─────┤ X ├─■───────────■─────\n",
       "      ├───┤└───┘ │P(2) ├───┤ │P(3) ┌───┐ │P(1) \n",
       "qr_1: ┤ H ├──────■─────┤ X ├─■─────┤ X ├─■─────\n",
       "      └───┘            └───┘       └───┘       </pre>"
      ],
      "text/plain": [
       "      ┌───┐┌───┐       ┌───┐                   \n",
       "qr_0: ┤ H ├┤ X ├─■─────┤ X ├─■───────────■─────\n",
       "      ├───┤└───┘ │P(2) ├───┤ │P(3) ┌───┐ │P(1) \n",
       "qr_1: ┤ H ├──────■─────┤ X ├─■─────┤ X ├─■─────\n",
       "      └───┘            └───┘       └───┘       "
      ]
     },
     "execution_count": 43,
     "metadata": {},
     "output_type": "execute_result"
    }
   ],
   "source": [
    "thetaEx = [10, 12, 13, 11]\n",
    "\n",
    "register1 = QuantumRegister(2, name='qr')\n",
    "\n",
    "circuito = QuantumCircuit(register1)\n",
    "circuito.append(Ui(thetaEx), [0,1])\n",
    "\n",
    "circuito.decompose().draw()"
   ]
  },
  {
   "cell_type": "markdown",
   "metadata": {},
   "source": [
    "## $U_w$"
   ]
  },
  {
   "cell_type": "code",
   "execution_count": 44,
   "metadata": {},
   "outputs": [],
   "source": [
    "def Uw(phi:[float]):\n",
    "\n",
    "    numQubits = int(np.log2(len(phi)))\n",
    "\n",
    "    register = QuantumRegister(numQubits)\n",
    "\n",
    "    circuito = QuantumCircuit(register)    \n",
    "\n",
    "    phiTil = list(map(lambda x: (x-phi[0])*(-1), phi[1:])) # Phase(lambda)^daga == Phase(-lambda)\n",
    "\n",
    "    for i in range(len(phiTil)):\n",
    "\n",
    "        num = bin(i+1)[2:].zfill(numQubits)\n",
    "\n",
    "        count=0 # essa variavel vai guardar em que posicao na string estamos\n",
    "\n",
    "        for j in num: # iterando pelos caracteres de num\n",
    "\n",
    "            if(j=='0'):\n",
    "\n",
    "                circuito.x(count)\n",
    "\n",
    "            count+=1\n",
    "\n",
    "        circuito.mcp(phiTil[i], list(range(len(num)-1)), len(num)-1)\n",
    "\n",
    "        count=0 # essa variavel vai guardar em que posicao na string estamos\n",
    "\n",
    "        for j in num: # iterando pelos caracteres de num\n",
    "\n",
    "            if(j=='0'):\n",
    "\n",
    "                circuito.x(count) # desfazendo os nots\n",
    "\n",
    "            count+=1\n",
    "\n",
    "    circuito.h(range(numQubits))\n",
    "\n",
    "    circuito.x(range(numQubits))\n",
    "\n",
    "    return circuito.to_gate()"
   ]
  },
  {
   "cell_type": "code",
   "execution_count": 45,
   "metadata": {},
   "outputs": [
    {
     "data": {
      "text/html": [
       "<pre style=\"word-wrap: normal;white-space: pre;background: #fff0;line-height: 1.1;font-family: &quot;Courier New&quot;,Courier,monospace\">      ┌───┐        ┌───┐                     ┌───┐┌───┐\n",
       "qr_0: ┤ X ├─■──────┤ X ├─■────────────■──────┤ H ├┤ X ├\n",
       "      └───┘ │P(-2) ├───┤ │P(-3) ┌───┐ │P(-1) ├───┤├───┤\n",
       "qr_1: ──────■──────┤ X ├─■──────┤ X ├─■──────┤ H ├┤ X ├\n",
       "                   └───┘        └───┘        └───┘└───┘</pre>"
      ],
      "text/plain": [
       "      ┌───┐        ┌───┐                     ┌───┐┌───┐\n",
       "qr_0: ┤ X ├─■──────┤ X ├─■────────────■──────┤ H ├┤ X ├\n",
       "      └───┘ │P(-2) ├───┤ │P(-3) ┌───┐ │P(-1) ├───┤├───┤\n",
       "qr_1: ──────■──────┤ X ├─■──────┤ X ├─■──────┤ H ├┤ X ├\n",
       "                   └───┘        └───┘        └───┘└───┘"
      ]
     },
     "execution_count": 45,
     "metadata": {},
     "output_type": "execute_result"
    }
   ],
   "source": [
    "phiEx = [10, 12, 13, 11]\n",
    "\n",
    "register1 = QuantumRegister(2, name='qr')\n",
    "\n",
    "circuito = QuantumCircuit(register1)\n",
    "circuito.append(Uw(phiEx), [0,1])\n",
    "\n",
    "circuito.decompose().draw()"
   ]
  },
  {
   "cell_type": "markdown",
   "metadata": {},
   "source": [
    "## Teste"
   ]
  },
  {
   "cell_type": "code",
   "execution_count": 53,
   "metadata": {},
   "outputs": [
    {
     "data": {
      "text/html": [
       "<pre style=\"word-wrap: normal;white-space: pre;background: #fff0;line-height: 1.1;font-family: &quot;Courier New&quot;,Courier,monospace\">        ┌─────────────┐ ░ ┌─────────────┐ ░         \n",
       " q26_0: ┤0            ├─░─┤0            ├─░───■─────\n",
       "        │  circuit-90 │ ░ │  circuit-93 │ ░   │     \n",
       " q26_1: ┤1            ├─░─┤1            ├─░───■─────\n",
       "        └─────────────┘ ░ └─────────────┘ ░ ┌─┴─┐┌─┐\n",
       "output: ────────────────░─────────────────░─┤ X ├┤M├\n",
       "                        ░                 ░ └───┘└╥┘\n",
       "  c3: 1/══════════════════════════════════════════╩═\n",
       "                                                  0 </pre>"
      ],
      "text/plain": [
       "        ┌─────────────┐ ░ ┌─────────────┐ ░         \n",
       " q26_0: ┤0            ├─░─┤0            ├─░───■─────\n",
       "        │  circuit-90 │ ░ │  circuit-93 │ ░   │     \n",
       " q26_1: ┤1            ├─░─┤1            ├─░───■─────\n",
       "        └─────────────┘ ░ └─────────────┘ ░ ┌─┴─┐┌─┐\n",
       "output: ────────────────░─────────────────░─┤ X ├┤M├\n",
       "                        ░                 ░ └───┘└╥┘\n",
       "  c3: 1/══════════════════════════════════════════╩═\n",
       "                                                  0 "
      ]
     },
     "execution_count": 53,
     "metadata": {},
     "output_type": "execute_result"
    }
   ],
   "source": [
    "register = QuantumRegister(2)\n",
    "\n",
    "register2 = QuantumRegister(1, name='output')\n",
    "\n",
    "classicalBit = ClassicalRegister(1)\n",
    "\n",
    "circuito = QuantumCircuit(register, register2, classicalBit)\n",
    "\n",
    "thetaEx = [np.pi/6, np.pi/4, np.pi/2, np.pi]\n",
    "phiEx = [0, np.pi/2, np.pi/4, np.pi/6]\n",
    "\n",
    "circuito.append(Ui(thetaEx), [0,1])\n",
    "circuito.barrier()\n",
    "circuito.append(Uw(phiEx), [0,1])\n",
    "circuito.barrier()\n",
    "\n",
    "circuito.mcx([0,1], 2)\n",
    "\n",
    "circuito.measure(2,0)\n",
    "\n",
    "circuito.draw()"
   ]
  },
  {
   "cell_type": "code",
   "execution_count": 57,
   "metadata": {},
   "outputs": [
    {
     "data": {
      "image/png": "[encoded data removed]",
      "text/plain": [
       "<Figure size 504x360 with 1 Axes>"
      ]
     },
     "execution_count": 57,
     "metadata": {},
     "output_type": "execute_result"
    }
   ],
   "source": [
    "sim = Aer.get_backend('aer_simulator')  # Tell Qiskit how to simulate our circuit\n",
    "\n",
    "qobj = assemble(circuito.decompose())     # Create a Qobj from the circuit for the simulator to run\n",
    "counts = sim.run(qobj).result().get_counts()\n",
    "plot_histogram(counts)"
   ]
  },
  {
   "cell_type": "code",
   "execution_count": 55,
   "metadata": {},
   "outputs": [
    {
     "name": "stderr",
     "output_type": "stream",
     "text": [
      "Simulation failed and returned the following error message:\n",
      "ERROR:  [Experiment 0] Circuit circuit-89 contains invalid instructions {\"gates\": {circuit-93, circuit-90}} for \"statevector\" method.\n"
     ]
    },
    {
     "ename": "QiskitError",
     "evalue": "'Data for experiment \"circuit-89\" could not be found.'",
     "output_type": "error",
     "traceback": [
      "\u001b[1;31m---------------------------------------------------------------------------\u001b[0m",
      "\u001b[1;31mQiskitError\u001b[0m                               Traceback (most recent call last)",
      "\u001b[1;32m~\\AppData\\Local\\Temp/ipykernel_48972/225567427.py\u001b[0m in \u001b[0;36m<module>\u001b[1;34m\u001b[0m\n\u001b[0;32m      2\u001b[0m \u001b[1;33m\u001b[0m\u001b[0m\n\u001b[0;32m      3\u001b[0m \u001b[0mresult\u001b[0m \u001b[1;33m=\u001b[0m \u001b[0msim\u001b[0m\u001b[1;33m.\u001b[0m\u001b[0mrun\u001b[0m\u001b[1;33m(\u001b[0m\u001b[0mcircuito\u001b[0m\u001b[1;33m,\u001b[0m \u001b[0mshots\u001b[0m\u001b[1;33m=\u001b[0m\u001b[1;36m1000\u001b[0m\u001b[1;33m,\u001b[0m \u001b[0mmemory\u001b[0m\u001b[1;33m=\u001b[0m\u001b[1;32mTrue\u001b[0m\u001b[1;33m)\u001b[0m\u001b[1;33m.\u001b[0m\u001b[0mresult\u001b[0m\u001b[1;33m(\u001b[0m\u001b[1;33m)\u001b[0m\u001b[1;33m\u001b[0m\u001b[1;33m\u001b[0m\u001b[0m\n\u001b[1;32m----> 4\u001b[1;33m \u001b[0mmemory\u001b[0m \u001b[1;33m=\u001b[0m \u001b[0mresult\u001b[0m\u001b[1;33m.\u001b[0m\u001b[0mget_memory\u001b[0m\u001b[1;33m(\u001b[0m\u001b[0mcircuito\u001b[0m\u001b[1;33m)\u001b[0m\u001b[1;33m\u001b[0m\u001b[1;33m\u001b[0m\u001b[0m\n\u001b[0m\u001b[0;32m      5\u001b[0m \u001b[0mcounts\u001b[0m \u001b[1;33m=\u001b[0m \u001b[0mresult\u001b[0m\u001b[1;33m.\u001b[0m\u001b[0mget_counts\u001b[0m\u001b[1;33m(\u001b[0m\u001b[1;33m)\u001b[0m\u001b[1;33m\u001b[0m\u001b[1;33m\u001b[0m\u001b[0m\n\u001b[0;32m      6\u001b[0m \u001b[0mprint\u001b[0m\u001b[1;33m(\u001b[0m\u001b[0mmemory\u001b[0m\u001b[1;33m)\u001b[0m\u001b[1;33m\u001b[0m\u001b[1;33m\u001b[0m\u001b[0m\n",
      "\u001b[1;32m~\\AppData\\Local\\Packages\\PythonSoftwareFoundation.Python.3.8_qbz5n2kfra8p0\\LocalCache\\local-packages\\Python38\\site-packages\\qiskit\\result\\result.py\u001b[0m in \u001b[0;36mget_memory\u001b[1;34m(self, experiment)\u001b[0m\n\u001b[0;32m    226\u001b[0m             \u001b[0mQiskitError\u001b[0m\u001b[1;33m:\u001b[0m \u001b[1;32mif\u001b[0m \u001b[0mthere\u001b[0m \u001b[1;32mis\u001b[0m \u001b[0mno\u001b[0m \u001b[0mmemory\u001b[0m \u001b[0mdata\u001b[0m \u001b[1;32mfor\u001b[0m \u001b[0mthe\u001b[0m \u001b[0mcircuit\u001b[0m\u001b[1;33m.\u001b[0m\u001b[1;33m\u001b[0m\u001b[1;33m\u001b[0m\u001b[0m\n\u001b[0;32m    227\u001b[0m         \"\"\"\n\u001b[1;32m--> 228\u001b[1;33m         \u001b[0mexp_result\u001b[0m \u001b[1;33m=\u001b[0m \u001b[0mself\u001b[0m\u001b[1;33m.\u001b[0m\u001b[0m_get_experiment\u001b[0m\u001b[1;33m(\u001b[0m\u001b[0mexperiment\u001b[0m\u001b[1;33m)\u001b[0m\u001b[1;33m\u001b[0m\u001b[1;33m\u001b[0m\u001b[0m\n\u001b[0m\u001b[0;32m    229\u001b[0m         \u001b[1;32mtry\u001b[0m\u001b[1;33m:\u001b[0m\u001b[1;33m\u001b[0m\u001b[1;33m\u001b[0m\u001b[0m\n\u001b[0;32m    230\u001b[0m             \u001b[1;32mtry\u001b[0m\u001b[1;33m:\u001b[0m  \u001b[1;31m# header is not available\u001b[0m\u001b[1;33m\u001b[0m\u001b[1;33m\u001b[0m\u001b[0m\n",
      "\u001b[1;32m~\\AppData\\Local\\Packages\\PythonSoftwareFoundation.Python.3.8_qbz5n2kfra8p0\\LocalCache\\local-packages\\Python38\\site-packages\\qiskit\\result\\result.py\u001b[0m in \u001b[0;36m_get_experiment\u001b[1;34m(self, key)\u001b[0m\n\u001b[0;32m    389\u001b[0m \u001b[1;33m\u001b[0m\u001b[0m\n\u001b[0;32m    390\u001b[0m             \u001b[1;32mif\u001b[0m \u001b[0mlen\u001b[0m\u001b[1;33m(\u001b[0m\u001b[0mexp\u001b[0m\u001b[1;33m)\u001b[0m \u001b[1;33m==\u001b[0m \u001b[1;36m0\u001b[0m\u001b[1;33m:\u001b[0m\u001b[1;33m\u001b[0m\u001b[1;33m\u001b[0m\u001b[0m\n\u001b[1;32m--> 391\u001b[1;33m                 \u001b[1;32mraise\u001b[0m \u001b[0mQiskitError\u001b[0m\u001b[1;33m(\u001b[0m\u001b[1;34m'Data for experiment \"%s\" could not be found.'\u001b[0m \u001b[1;33m%\u001b[0m \u001b[0mkey\u001b[0m\u001b[1;33m)\u001b[0m\u001b[1;33m\u001b[0m\u001b[1;33m\u001b[0m\u001b[0m\n\u001b[0m\u001b[0;32m    392\u001b[0m             \u001b[1;32mif\u001b[0m \u001b[0mlen\u001b[0m\u001b[1;33m(\u001b[0m\u001b[0mexp\u001b[0m\u001b[1;33m)\u001b[0m \u001b[1;33m==\u001b[0m \u001b[1;36m1\u001b[0m\u001b[1;33m:\u001b[0m\u001b[1;33m\u001b[0m\u001b[1;33m\u001b[0m\u001b[0m\n\u001b[0;32m    393\u001b[0m                 \u001b[0mexp\u001b[0m \u001b[1;33m=\u001b[0m \u001b[0mexp\u001b[0m\u001b[1;33m[\u001b[0m\u001b[1;36m0\u001b[0m\u001b[1;33m]\u001b[0m\u001b[1;33m\u001b[0m\u001b[1;33m\u001b[0m\u001b[0m\n",
      "\u001b[1;31mQiskitError\u001b[0m: 'Data for experiment \"circuit-89\" could not be found.'"
     ]
    }
   ],
   "source": [
    "sim = Aer.get_backend('aer_simulator')  # Tell Qiskit how to simulate our circuit\n",
    "\n",
    "result = sim.run(circuito, shots=10, memory=True).result()\n",
    "memory = result.get_memory(circuito)\n",
    "counts = result.get_counts()\n",
    "print(memory)\n",
    "plot_histogram(counts, title='Exemplo de histograma')"
   ]
  }
 ],
 "metadata": {
  "interpreter": {
   "hash": "06a6e9066bbeb53b5d1ce66b8de344dab574a4b2c668895e58457d7b51122ee9"
  },
  "kernelspec": {
   "display_name": "Python 3.8.10 64-bit (windows store)",
   "language": "python",
   "name": "python3"
  },
  "language_info": {
   "codemirror_mode": {
    "name": "ipython",
    "version": 3
   },
   "file_extension": ".py",
   "mimetype": "text/x-python",
   "name": "python",
   "nbconvert_exporter": "python",
   "pygments_lexer": "ipython3",
   "version": "3.8.10"
  },
  "orig_nbformat": 4
 },
 "nbformat": 4,
 "nbformat_minor": 2
}
